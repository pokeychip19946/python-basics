{
  "nbformat": 4,
  "nbformat_minor": 0,
  "metadata": {
    "colab": {
      "name": "python functions.ipynb",
      "provenance": [],
      "collapsed_sections": [],
      "authorship_tag": "ABX9TyOvzhcYsTLCSzoYDNQyPm7o",
      "include_colab_link": true
    },
    "kernelspec": {
      "name": "python3",
      "display_name": "Python 3"
    }
  },
  "cells": [
    {
      "cell_type": "markdown",
      "metadata": {
        "id": "view-in-github",
        "colab_type": "text"
      },
      "source": [
        "<a href=\"https://colab.research.google.com/github/pokeychip19946/python-basics/blob/master/python_functions.ipynb\" target=\"_parent\"><img src=\"https://colab.research.google.com/assets/colab-badge.svg\" alt=\"Open In Colab\"/></a>"
      ]
    },
    {
      "cell_type": "code",
      "metadata": {
        "id": "yliXVB1S0kEG",
        "colab_type": "code",
        "colab": {}
      },
      "source": [
        "def printme( str ):\n",
        "   print(str)\n",
        "   return\n",
        "printme(\"I'm first call to user defined function!\")\n",
        "printme(\"Again second call to the same function\")"
      ],
      "execution_count": 0,
      "outputs": []
    },
    {
      "cell_type": "code",
      "metadata": {
        "id": "8Il-6shzC6RX",
        "colab_type": "code",
        "colab": {}
      },
      "source": [
        "def changeme( mylist ):\n",
        "   mylist = [1,2,3,4]\n",
        "   print(\"Values inside the function: \", mylist)\n",
        "   return\n",
        "mylist = [10,20,30]\n",
        "changeme( mylist )\n",
        "print(\"Values outside the function: \", mylist)"
      ],
      "execution_count": 0,
      "outputs": []
    },
    {
      "cell_type": "code",
      "metadata": {
        "id": "L2_yzvxpDg-i",
        "colab_type": "code",
        "colab": {}
      },
      "source": [
        "def printme( str ):\n",
        "   print(str)\n",
        "   return\n",
        "printme( str = \"My string\")"
      ],
      "execution_count": 0,
      "outputs": []
    },
    {
      "cell_type": "code",
      "metadata": {
        "id": "c3rgcm7kD75U",
        "colab_type": "code",
        "colab": {}
      },
      "source": [
        "def printinfo( name, age = 35 ):\n",
        "   print(\"Name: \", name)\n",
        "   print(\"Age \", age)\n",
        "   return\n",
        "printinfo( age=50, name=\"miki\" )\n",
        "printinfo( name=\"miki\" )"
      ],
      "execution_count": 0,
      "outputs": []
    }
  ]
}