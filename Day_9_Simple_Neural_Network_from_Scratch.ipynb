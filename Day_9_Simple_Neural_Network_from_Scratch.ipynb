{
  "nbformat": 4,
  "nbformat_minor": 0,
  "metadata": {
    "colab": {
      "name": "Day 9 - Simple Neural Network from Scratch.ipynb",
      "provenance": [],
      "collapsed_sections": [],
      "include_colab_link": true
    },
    "kernelspec": {
      "name": "python3",
      "display_name": "Python 3"
    }
  },
  "cells": [
    {
      "cell_type": "markdown",
      "metadata": {
        "id": "view-in-github",
        "colab_type": "text"
      },
      "source": [
        "<a href=\"https://colab.research.google.com/github/pokeychip19946/python-basics/blob/master/Day_9_Simple_Neural_Network_from_Scratch.ipynb\" target=\"_parent\"><img src=\"https://colab.research.google.com/assets/colab-badge.svg\" alt=\"Open In Colab\"/></a>"
      ]
    },
    {
      "cell_type": "code",
      "metadata": {
        "id": "Zos0rvZN2qFd",
        "colab_type": "code",
        "colab": {}
      },
      "source": [
        "import numpy as np"
      ],
      "execution_count": null,
      "outputs": []
    },
    {
      "cell_type": "code",
      "metadata": {
        "id": "cdDMOp5g5BVf",
        "colab_type": "code",
        "colab": {}
      },
      "source": [
        "inputs = np.array([[0,0,1],[1,1,0],[0,1,1],[1,0,1],[1,1,1]])\n",
        "outputs = np.array([[0],[1],[0],[1],[1]])"
      ],
      "execution_count": null,
      "outputs": []
    },
    {
      "cell_type": "code",
      "metadata": {
        "id": "oGpkq1Gl5RJb",
        "colab_type": "code",
        "colab": {
          "base_uri": "https://localhost:8080/",
          "height": 104
        },
        "outputId": "4b3e66d5-2a23-4407-8495-5fff6ab97c2a"
      },
      "source": [
        "inputs"
      ],
      "execution_count": null,
      "outputs": [
        {
          "output_type": "execute_result",
          "data": {
            "text/plain": [
              "array([[0, 0, 1],\n",
              "       [1, 1, 0],\n",
              "       [0, 1, 1],\n",
              "       [1, 0, 1],\n",
              "       [1, 1, 1]])"
            ]
          },
          "metadata": {
            "tags": []
          },
          "execution_count": 32
        }
      ]
    },
    {
      "cell_type": "code",
      "metadata": {
        "id": "CtKVwTOM5R1x",
        "colab_type": "code",
        "colab": {
          "base_uri": "https://localhost:8080/",
          "height": 104
        },
        "outputId": "9135d0f3-5ce2-4765-a965-c425862aaedd"
      },
      "source": [
        "outputs"
      ],
      "execution_count": null,
      "outputs": [
        {
          "output_type": "execute_result",
          "data": {
            "text/plain": [
              "array([[0],\n",
              "       [1],\n",
              "       [0],\n",
              "       [1],\n",
              "       [1]])"
            ]
          },
          "metadata": {
            "tags": []
          },
          "execution_count": 33
        }
      ]
    },
    {
      "cell_type": "code",
      "metadata": {
        "id": "CjWsbEBr5SqC",
        "colab_type": "code",
        "colab": {
          "base_uri": "https://localhost:8080/",
          "height": 69
        },
        "outputId": "f9539dc3-d081-4ce5-8e92-a7e08374193e"
      },
      "source": [
        "np.random.seed(10)\n",
        "weights = np.random.random((3,1))\n",
        "weights"
      ],
      "execution_count": null,
      "outputs": [
        {
          "output_type": "execute_result",
          "data": {
            "text/plain": [
              "array([[0.77132064],\n",
              "       [0.02075195],\n",
              "       [0.63364823]])"
            ]
          },
          "metadata": {
            "tags": []
          },
          "execution_count": 34
        }
      ]
    },
    {
      "cell_type": "code",
      "metadata": {
        "id": "1ho0gcrR5-QO",
        "colab_type": "code",
        "colab": {
          "base_uri": "https://localhost:8080/",
          "height": 104
        },
        "outputId": "7612be6a-e7e7-4a98-cd5a-914670fc14c4"
      },
      "source": [
        "sum = np.dot(inputs,weights) + 0.02\n",
        "sum"
      ],
      "execution_count": null,
      "outputs": [
        {
          "output_type": "execute_result",
          "data": {
            "text/plain": [
              "array([[0.65364823],\n",
              "       [0.81207259],\n",
              "       [0.67440018],\n",
              "       [1.42496888],\n",
              "       [1.44572083]])"
            ]
          },
          "metadata": {
            "tags": []
          },
          "execution_count": 35
        }
      ]
    },
    {
      "cell_type": "code",
      "metadata": {
        "id": "rzi4f7er6m2n",
        "colab_type": "code",
        "colab": {}
      },
      "source": [
        "def sigmoid(x):\n",
        "  return 1 / (1 + np.exp(-x))"
      ],
      "execution_count": null,
      "outputs": []
    },
    {
      "cell_type": "code",
      "metadata": {
        "id": "CDWf19AR7lRo",
        "colab_type": "code",
        "colab": {
          "base_uri": "https://localhost:8080/",
          "height": 34
        },
        "outputId": "4936413b-8fc2-4ddd-9afb-7e40d4d33891"
      },
      "source": [
        "sigmoid(5)"
      ],
      "execution_count": null,
      "outputs": [
        {
          "output_type": "execute_result",
          "data": {
            "text/plain": [
              "0.9933071490757153"
            ]
          },
          "metadata": {
            "tags": []
          },
          "execution_count": 37
        }
      ]
    },
    {
      "cell_type": "code",
      "metadata": {
        "id": "f-uzTJzh7m7Y",
        "colab_type": "code",
        "colab": {
          "base_uri": "https://localhost:8080/",
          "height": 104
        },
        "outputId": "4f697abf-7eb3-4a35-d983-eddedd05de32"
      },
      "source": [
        "sum = np.dot(inputs,weights) + 0.02\n",
        "ypred = sigmoid(sum)\n",
        "ypred"
      ],
      "execution_count": null,
      "outputs": [
        {
          "output_type": "execute_result",
          "data": {
            "text/plain": [
              "array([[0.65783211],\n",
              "       [0.69255099],\n",
              "       [0.66248773],\n",
              "       [0.8061162 ],\n",
              "       [0.80933899]])"
            ]
          },
          "metadata": {
            "tags": []
          },
          "execution_count": 38
        }
      ]
    },
    {
      "cell_type": "code",
      "metadata": {
        "id": "nD0Z_Ha3745D",
        "colab_type": "code",
        "colab": {
          "base_uri": "https://localhost:8080/",
          "height": 104
        },
        "outputId": "989aec44-4cb9-4e76-fb86-71a25de72ba9"
      },
      "source": [
        "sum = np.dot(inputs,weights) + 0.02\n",
        "ypred = sigmoid(sum)\n",
        "error = outputs - ypred\n",
        "error"
      ],
      "execution_count": null,
      "outputs": [
        {
          "output_type": "execute_result",
          "data": {
            "text/plain": [
              "array([[-0.65783211],\n",
              "       [ 0.30744901],\n",
              "       [-0.66248773],\n",
              "       [ 0.1938838 ],\n",
              "       [ 0.19066101]])"
            ]
          },
          "metadata": {
            "tags": []
          },
          "execution_count": 39
        }
      ]
    },
    {
      "cell_type": "code",
      "metadata": {
        "id": "3TxY-FXT8f6a",
        "colab_type": "code",
        "colab": {}
      },
      "source": [
        "def gradient(x):\n",
        "  return x * (1-x)"
      ],
      "execution_count": null,
      "outputs": []
    },
    {
      "cell_type": "code",
      "metadata": {
        "id": "w1-g1da39MfS",
        "colab_type": "code",
        "colab": {
          "base_uri": "https://localhost:8080/",
          "height": 104
        },
        "outputId": "4b88b98a-5c9a-4fd4-dc78-4f3f9d2606ca"
      },
      "source": [
        "sum = np.dot(inputs,weights) + 0.02\n",
        "ypred = sigmoid(sum)\n",
        "error = outputs - ypred\n",
        "adjustment = error * gradient(ypred)   ### gradient descent\n",
        "weights = weights + np.dot(inputs.T,adjustment)  ## back propagation\n",
        "error"
      ],
      "execution_count": null,
      "outputs": [
        {
          "output_type": "execute_result",
          "data": {
            "text/plain": [
              "array([[-0.65783211],\n",
              "       [ 0.30744901],\n",
              "       [-0.66248773],\n",
              "       [ 0.1938838 ],\n",
              "       [ 0.19066101]])"
            ]
          },
          "metadata": {
            "tags": []
          },
          "execution_count": 41
        }
      ]
    },
    {
      "cell_type": "code",
      "metadata": {
        "id": "9v5q5V2g9n0T",
        "colab_type": "code",
        "colab": {
          "base_uri": "https://localhost:8080/",
          "height": 34
        },
        "outputId": "8e0f6974-c0b9-4a5f-9577-cece5daa3962"
      },
      "source": [
        "inputs.T.shape"
      ],
      "execution_count": null,
      "outputs": [
        {
          "output_type": "execute_result",
          "data": {
            "text/plain": [
              "(3, 5)"
            ]
          },
          "metadata": {
            "tags": []
          },
          "execution_count": 42
        }
      ]
    },
    {
      "cell_type": "code",
      "metadata": {
        "id": "8i-0uvTr9sqx",
        "colab_type": "code",
        "colab": {
          "base_uri": "https://localhost:8080/",
          "height": 34
        },
        "outputId": "ebf3c1e4-c7b8-4228-888a-c8a6a9c04598"
      },
      "source": [
        "adjustment.shape"
      ],
      "execution_count": null,
      "outputs": [
        {
          "output_type": "execute_result",
          "data": {
            "text/plain": [
              "(5, 1)"
            ]
          },
          "metadata": {
            "tags": []
          },
          "execution_count": 43
        }
      ]
    },
    {
      "cell_type": "code",
      "metadata": {
        "id": "ojx_UJ1E9uMt",
        "colab_type": "code",
        "colab": {
          "base_uri": "https://localhost:8080/",
          "height": 104
        },
        "outputId": "e75eddde-1ea9-4875-ea2d-c0c171da7470"
      },
      "source": [
        "for i in range(1500):\n",
        "  sum = np.dot(inputs,weights) + 0.02\n",
        "  ypred = sigmoid(sum)\n",
        "  error = outputs - ypred\n",
        "  adjustment = error * gradient(ypred)   ### gradient descent\n",
        "  weights = weights + np.dot(inputs.T,adjustment)   ## back propagation\n",
        "error"
      ],
      "execution_count": null,
      "outputs": [
        {
          "output_type": "execute_result",
          "data": {
            "text/plain": [
              "array([[-0.02563487],\n",
              "       [ 0.00054907],\n",
              "       [-0.02078144],\n",
              "       [ 0.01689394],\n",
              "       [ 0.02085879]])"
            ]
          },
          "metadata": {
            "tags": []
          },
          "execution_count": 44
        }
      ]
    },
    {
      "cell_type": "code",
      "metadata": {
        "id": "ntwKupet-R9T",
        "colab_type": "code",
        "colab": {
          "base_uri": "https://localhost:8080/",
          "height": 104
        },
        "outputId": "913f1a27-d209-43b0-f998-b05d8b565e64"
      },
      "source": [
        "ypred.round()"
      ],
      "execution_count": null,
      "outputs": [
        {
          "output_type": "execute_result",
          "data": {
            "text/plain": [
              "array([[0.],\n",
              "       [1.],\n",
              "       [0.],\n",
              "       [1.],\n",
              "       [1.]])"
            ]
          },
          "metadata": {
            "tags": []
          },
          "execution_count": 45
        }
      ]
    },
    {
      "cell_type": "code",
      "metadata": {
        "id": "B2Gi8QQO-ZrG",
        "colab_type": "code",
        "colab": {
          "base_uri": "https://localhost:8080/",
          "height": 69
        },
        "outputId": "f81a9602-ff6c-4cfa-b076-877151465dd8"
      },
      "source": [
        "weights"
      ],
      "execution_count": null,
      "outputs": [
        {
          "output_type": "execute_result",
          "data": {
            "text/plain": [
              "array([[ 7.70230157],\n",
              "       [-0.21485846],\n",
              "       [-3.65818916]])"
            ]
          },
          "metadata": {
            "tags": []
          },
          "execution_count": 46
        }
      ]
    },
    {
      "cell_type": "code",
      "metadata": {
        "id": "6naxo1nG_mcd",
        "colab_type": "code",
        "colab": {}
      },
      "source": [
        ""
      ],
      "execution_count": null,
      "outputs": []
    }
  ]
}