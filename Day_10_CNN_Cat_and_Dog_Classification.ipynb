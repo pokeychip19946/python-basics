{
  "nbformat": 4,
  "nbformat_minor": 0,
  "metadata": {
    "colab": {
      "name": "Day 10 - CNN - Cat and Dog Classification.ipynb",
      "provenance": [],
      "collapsed_sections": [],
      "include_colab_link": true
    },
    "kernelspec": {
      "name": "python3",
      "display_name": "Python 3"
    },
    "accelerator": "GPU"
  },
  "cells": [
    {
      "cell_type": "markdown",
      "metadata": {
        "id": "view-in-github",
        "colab_type": "text"
      },
      "source": [
        "<a href=\"https://colab.research.google.com/github/pokeychip19946/python-basics/blob/master/Day_10_CNN_Cat_and_Dog_Classification.ipynb\" target=\"_parent\"><img src=\"https://colab.research.google.com/assets/colab-badge.svg\" alt=\"Open In Colab\"/></a>"
      ]
    },
    {
      "cell_type": "code",
      "metadata": {
        "id": "7HiJHcWfz7kt",
        "colab_type": "code",
        "colab": {
          "base_uri": "https://localhost:8080/",
          "height": 125
        },
        "outputId": "f2d471c3-bb15-4836-d6c7-f1fd9a6ece9a"
      },
      "source": [
        "#get access google drive data into google colab\n",
        "from google.colab import drive\n",
        "drive.mount('/content/drive')"
      ],
      "execution_count": null,
      "outputs": [
        {
          "output_type": "stream",
          "text": [
            "Go to this URL in a browser: https://accounts.google.com/o/oauth2/auth?client_id=947318989803-6bn6qk8qdgf4n4g3pfee6491hc0brc4i.apps.googleusercontent.com&redirect_uri=urn%3aietf%3awg%3aoauth%3a2.0%3aoob&response_type=code&scope=email%20https%3a%2f%2fwww.googleapis.com%2fauth%2fdocs.test%20https%3a%2f%2fwww.googleapis.com%2fauth%2fdrive%20https%3a%2f%2fwww.googleapis.com%2fauth%2fdrive.photos.readonly%20https%3a%2f%2fwww.googleapis.com%2fauth%2fpeopleapi.readonly\n",
            "\n",
            "Enter your authorization code:\n",
            "··········\n",
            "Mounted at /content/drive\n"
          ],
          "name": "stdout"
        }
      ]
    },
    {
      "cell_type": "code",
      "metadata": {
        "id": "en5tQUjH0Rqy",
        "colab_type": "code",
        "colab": {
          "base_uri": "https://localhost:8080/",
          "height": 34
        },
        "outputId": "7817af26-d383-4517-cc73-cb73b22deaf3"
      },
      "source": [
        "from zipfile import ZipFile\n",
        "file_name = \"/content/drive/My Drive/dataset.zip\"\n",
        "with ZipFile(file_name,'r') as zip:\n",
        "  zip.extractall()\n",
        "  print('finish')"
      ],
      "execution_count": null,
      "outputs": [
        {
          "output_type": "stream",
          "text": [
            "finish\n"
          ],
          "name": "stdout"
        }
      ]
    },
    {
      "cell_type": "code",
      "metadata": {
        "id": "vIHu01-B09zM",
        "colab_type": "code",
        "colab": {}
      },
      "source": [
        "# Importing the Keras libraries and packages\n",
        "from tensorflow.keras.models import Sequential\n",
        "from tensorflow.keras.layers import Conv2D\n",
        "from tensorflow.keras.layers import MaxPooling2D\n",
        "from tensorflow.keras.layers import Flatten\n",
        "from tensorflow.keras.layers import Dense"
      ],
      "execution_count": null,
      "outputs": []
    },
    {
      "cell_type": "code",
      "metadata": {
        "id": "IFGP63Lz1hTV",
        "colab_type": "code",
        "colab": {}
      },
      "source": [
        "# Initialising the CNN\n",
        "CNN_Classifier=Sequential();"
      ],
      "execution_count": null,
      "outputs": []
    },
    {
      "cell_type": "code",
      "metadata": {
        "id": "3SHeTqlo1k5c",
        "colab_type": "code",
        "colab": {}
      },
      "source": [
        "# Step 1 - Convolution\n",
        "CNN_Classifier.add(Conv2D(32,(3,3),input_shape=(64,64,3),activation='relu'))\n",
        "# 32 - no.of filters"
      ],
      "execution_count": null,
      "outputs": []
    },
    {
      "cell_type": "code",
      "metadata": {
        "id": "A_i91LP81nSp",
        "colab_type": "code",
        "colab": {}
      },
      "source": [
        "# Step 2 - Pooling\n",
        "CNN_Classifier.add(MaxPooling2D(pool_size=(2,2)))"
      ],
      "execution_count": null,
      "outputs": []
    },
    {
      "cell_type": "code",
      "metadata": {
        "id": "wsRr2-jr1nnz",
        "colab_type": "code",
        "colab": {}
      },
      "source": [
        "# Step 1 - Convolution\n",
        "CNN_Classifier.add(Conv2D(16,(3,3),activation='relu'))"
      ],
      "execution_count": null,
      "outputs": []
    },
    {
      "cell_type": "code",
      "metadata": {
        "id": "_qbQsq0-1pCF",
        "colab_type": "code",
        "colab": {}
      },
      "source": [
        "# Step 2 - Pooling\n",
        "CNN_Classifier.add(MaxPooling2D(pool_size=(2,2)))"
      ],
      "execution_count": null,
      "outputs": []
    },
    {
      "cell_type": "code",
      "metadata": {
        "id": "x0KB3kYZ1qoM",
        "colab_type": "code",
        "colab": {}
      },
      "source": [
        "# Step 3 - Flattening\n",
        "CNN_Classifier.add(Flatten())"
      ],
      "execution_count": null,
      "outputs": []
    },
    {
      "cell_type": "code",
      "metadata": {
        "id": "olbhD44q1sTn",
        "colab_type": "code",
        "colab": {}
      },
      "source": [
        "# Step 4 - Full connection\n",
        "CNN_Classifier.add(Dense(units=128, activation='relu'))    ### hidden layer\n",
        "CNN_Classifier.add(Dense(units=1, activation='sigmoid'))   ## output layer"
      ],
      "execution_count": null,
      "outputs": []
    },
    {
      "cell_type": "code",
      "metadata": {
        "id": "UR3aV8jr1uae",
        "colab_type": "code",
        "colab": {}
      },
      "source": [
        "# Compiling the CNN\n",
        "CNN_Classifier.compile(optimizer ='adam',loss='binary_crossentropy',metrics=['accuracy'])"
      ],
      "execution_count": null,
      "outputs": []
    },
    {
      "cell_type": "code",
      "metadata": {
        "id": "7jJ2A9BU1vzf",
        "colab_type": "code",
        "colab": {}
      },
      "source": [
        "# https://keras.io/api/preprocessing/image/#imagedatagenerator-class\n",
        "\n",
        "from keras.preprocessing.image import ImageDataGenerator\n",
        "\n",
        "train_datagen = ImageDataGenerator(rescale = 1./255,\n",
        "                                   shear_range = 0.2,\n",
        "                                   zoom_range = 0.2,\n",
        "                                   horizontal_flip = True)\n",
        "test_datagen = ImageDataGenerator(rescale = 1./255)"
      ],
      "execution_count": null,
      "outputs": []
    },
    {
      "cell_type": "code",
      "metadata": {
        "id": "TrOGlmRz10jJ",
        "colab_type": "code",
        "colab": {
          "base_uri": "https://localhost:8080/",
          "height": 34
        },
        "outputId": "ea23488b-6a80-4dc7-f815-9ed44eb8ea3e"
      },
      "source": [
        "training_set = train_datagen.flow_from_directory('/content/dataset/training_set',\n",
        "                                                 target_size = (64, 64),\n",
        "                                                 batch_size = 32,\n",
        "                                                 class_mode = 'binary')"
      ],
      "execution_count": null,
      "outputs": [
        {
          "output_type": "stream",
          "text": [
            "Found 8000 images belonging to 2 classes.\n"
          ],
          "name": "stdout"
        }
      ]
    },
    {
      "cell_type": "code",
      "metadata": {
        "id": "hYrIAyTf12AR",
        "colab_type": "code",
        "colab": {
          "base_uri": "https://localhost:8080/",
          "height": 34
        },
        "outputId": "c9c43524-91d6-4c0d-9c83-3514c5798cdb"
      },
      "source": [
        "test_set = test_datagen.flow_from_directory('/content/dataset/test_set',\n",
        "                                            target_size = (64, 64),\n",
        "                                            batch_size = 32,\n",
        "                                            class_mode = 'binary')"
      ],
      "execution_count": null,
      "outputs": [
        {
          "output_type": "stream",
          "text": [
            "Found 2000 images belonging to 2 classes.\n"
          ],
          "name": "stdout"
        }
      ]
    },
    {
      "cell_type": "code",
      "metadata": {
        "id": "UmqdE5Wa13gF",
        "colab_type": "code",
        "colab": {
          "base_uri": "https://localhost:8080/",
          "height": 1000
        },
        "outputId": "2274ab19-7e9e-406e-cf08-7d7fb112e03f"
      },
      "source": [
        "CNN_Classifier.fit_generator(training_set,\n",
        "                         steps_per_epoch = 250,\n",
        "                         epochs = 100,\n",
        "                         validation_data = test_set,\n",
        "                         validation_steps = 60)"
      ],
      "execution_count": null,
      "outputs": [
        {
          "output_type": "stream",
          "text": [
            "Epoch 1/100\n",
            "250/250 [==============================] - 30s 120ms/step - loss: 0.6630 - accuracy: 0.6047 - val_loss: 0.6168 - val_accuracy: 0.6849\n",
            "Epoch 2/100\n",
            "250/250 [==============================] - 30s 119ms/step - loss: 0.6185 - accuracy: 0.6576 - val_loss: 0.5847 - val_accuracy: 0.6948\n",
            "Epoch 3/100\n",
            "250/250 [==============================] - 30s 119ms/step - loss: 0.5792 - accuracy: 0.6898 - val_loss: 0.5751 - val_accuracy: 0.6896\n",
            "Epoch 4/100\n",
            "250/250 [==============================] - 30s 119ms/step - loss: 0.5581 - accuracy: 0.7097 - val_loss: 0.5687 - val_accuracy: 0.7120\n",
            "Epoch 5/100\n",
            "250/250 [==============================] - 30s 118ms/step - loss: 0.5363 - accuracy: 0.7271 - val_loss: 0.5346 - val_accuracy: 0.7391\n",
            "Epoch 6/100\n",
            "250/250 [==============================] - 30s 119ms/step - loss: 0.5155 - accuracy: 0.7369 - val_loss: 0.5060 - val_accuracy: 0.7536\n",
            "Epoch 7/100\n",
            "250/250 [==============================] - 30s 119ms/step - loss: 0.4939 - accuracy: 0.7584 - val_loss: 0.5445 - val_accuracy: 0.7458\n",
            "Epoch 8/100\n",
            "250/250 [==============================] - 30s 119ms/step - loss: 0.4795 - accuracy: 0.7654 - val_loss: 0.6023 - val_accuracy: 0.6922\n",
            "Epoch 9/100\n",
            "250/250 [==============================] - 30s 119ms/step - loss: 0.4609 - accuracy: 0.7824 - val_loss: 0.4590 - val_accuracy: 0.7823\n",
            "Epoch 10/100\n",
            "250/250 [==============================] - 30s 119ms/step - loss: 0.4512 - accuracy: 0.7861 - val_loss: 0.4783 - val_accuracy: 0.7854\n",
            "Epoch 11/100\n",
            "250/250 [==============================] - 30s 121ms/step - loss: 0.4489 - accuracy: 0.7844 - val_loss: 0.4734 - val_accuracy: 0.7807\n",
            "Epoch 12/100\n",
            "250/250 [==============================] - 30s 119ms/step - loss: 0.4338 - accuracy: 0.7941 - val_loss: 0.4864 - val_accuracy: 0.7755\n",
            "Epoch 13/100\n",
            "250/250 [==============================] - 30s 118ms/step - loss: 0.4252 - accuracy: 0.8021 - val_loss: 0.4788 - val_accuracy: 0.7740\n",
            "Epoch 14/100\n",
            "250/250 [==============================] - 30s 119ms/step - loss: 0.4117 - accuracy: 0.8115 - val_loss: 0.5406 - val_accuracy: 0.7422\n",
            "Epoch 15/100\n",
            "250/250 [==============================] - 30s 119ms/step - loss: 0.4007 - accuracy: 0.8183 - val_loss: 0.4732 - val_accuracy: 0.7901\n",
            "Epoch 16/100\n",
            "250/250 [==============================] - 30s 118ms/step - loss: 0.3864 - accuracy: 0.8245 - val_loss: 0.4777 - val_accuracy: 0.7766\n",
            "Epoch 17/100\n",
            "250/250 [==============================] - 30s 120ms/step - loss: 0.3811 - accuracy: 0.8265 - val_loss: 0.4940 - val_accuracy: 0.7708\n",
            "Epoch 18/100\n",
            "250/250 [==============================] - 30s 118ms/step - loss: 0.3658 - accuracy: 0.8330 - val_loss: 0.4872 - val_accuracy: 0.7844\n",
            "Epoch 19/100\n",
            "250/250 [==============================] - 30s 119ms/step - loss: 0.3602 - accuracy: 0.8382 - val_loss: 0.4658 - val_accuracy: 0.7911\n",
            "Epoch 20/100\n",
            "250/250 [==============================] - 30s 119ms/step - loss: 0.3457 - accuracy: 0.8462 - val_loss: 0.4941 - val_accuracy: 0.7937\n",
            "Epoch 21/100\n",
            "250/250 [==============================] - 30s 120ms/step - loss: 0.3371 - accuracy: 0.8505 - val_loss: 0.5100 - val_accuracy: 0.7943\n",
            "Epoch 22/100\n",
            "250/250 [==============================] - 30s 120ms/step - loss: 0.3219 - accuracy: 0.8596 - val_loss: 0.4773 - val_accuracy: 0.7974\n",
            "Epoch 23/100\n",
            "250/250 [==============================] - 30s 119ms/step - loss: 0.3130 - accuracy: 0.8648 - val_loss: 0.5045 - val_accuracy: 0.7755\n",
            "Epoch 24/100\n",
            "250/250 [==============================] - 30s 119ms/step - loss: 0.3113 - accuracy: 0.8652 - val_loss: 0.5139 - val_accuracy: 0.7875\n",
            "Epoch 25/100\n",
            "250/250 [==============================] - 30s 119ms/step - loss: 0.2955 - accuracy: 0.8767 - val_loss: 0.5303 - val_accuracy: 0.7891\n",
            "Epoch 26/100\n",
            "250/250 [==============================] - 30s 119ms/step - loss: 0.2908 - accuracy: 0.8783 - val_loss: 0.5038 - val_accuracy: 0.7979\n",
            "Epoch 27/100\n",
            "250/250 [==============================] - 30s 119ms/step - loss: 0.2673 - accuracy: 0.8857 - val_loss: 0.5196 - val_accuracy: 0.7979\n",
            "Epoch 28/100\n",
            "250/250 [==============================] - 30s 119ms/step - loss: 0.2604 - accuracy: 0.8911 - val_loss: 0.5567 - val_accuracy: 0.7875\n",
            "Epoch 29/100\n",
            "250/250 [==============================] - 30s 118ms/step - loss: 0.2596 - accuracy: 0.8936 - val_loss: 0.5414 - val_accuracy: 0.7943\n",
            "Epoch 30/100\n",
            "250/250 [==============================] - 30s 119ms/step - loss: 0.2463 - accuracy: 0.8979 - val_loss: 0.5682 - val_accuracy: 0.7760\n",
            "Epoch 31/100\n",
            "250/250 [==============================] - 30s 120ms/step - loss: 0.2393 - accuracy: 0.8994 - val_loss: 0.5353 - val_accuracy: 0.7828\n",
            "Epoch 32/100\n",
            "250/250 [==============================] - 30s 120ms/step - loss: 0.2264 - accuracy: 0.9065 - val_loss: 0.6432 - val_accuracy: 0.7703\n",
            "Epoch 33/100\n",
            "250/250 [==============================] - 30s 120ms/step - loss: 0.2158 - accuracy: 0.9130 - val_loss: 0.5860 - val_accuracy: 0.7859\n",
            "Epoch 34/100\n",
            "250/250 [==============================] - 30s 119ms/step - loss: 0.2107 - accuracy: 0.9118 - val_loss: 0.5535 - val_accuracy: 0.7859\n",
            "Epoch 35/100\n",
            "250/250 [==============================] - 30s 119ms/step - loss: 0.1986 - accuracy: 0.9205 - val_loss: 0.6082 - val_accuracy: 0.7927\n",
            "Epoch 36/100\n",
            "250/250 [==============================] - 30s 119ms/step - loss: 0.1984 - accuracy: 0.9169 - val_loss: 0.6650 - val_accuracy: 0.7729\n",
            "Epoch 37/100\n",
            "250/250 [==============================] - 30s 119ms/step - loss: 0.1904 - accuracy: 0.9226 - val_loss: 0.6585 - val_accuracy: 0.7859\n",
            "Epoch 38/100\n",
            "250/250 [==============================] - 30s 120ms/step - loss: 0.1772 - accuracy: 0.9277 - val_loss: 0.6180 - val_accuracy: 0.7891\n",
            "Epoch 39/100\n",
            "250/250 [==============================] - 30s 120ms/step - loss: 0.1762 - accuracy: 0.9270 - val_loss: 0.6355 - val_accuracy: 0.7937\n",
            "Epoch 40/100\n",
            "250/250 [==============================] - 30s 121ms/step - loss: 0.1691 - accuracy: 0.9293 - val_loss: 0.6268 - val_accuracy: 0.7865\n",
            "Epoch 41/100\n",
            "250/250 [==============================] - 30s 122ms/step - loss: 0.1596 - accuracy: 0.9364 - val_loss: 0.6024 - val_accuracy: 0.7984\n",
            "Epoch 42/100\n",
            "250/250 [==============================] - 30s 122ms/step - loss: 0.1631 - accuracy: 0.9350 - val_loss: 0.6385 - val_accuracy: 0.7906\n",
            "Epoch 43/100\n",
            "250/250 [==============================] - 30s 121ms/step - loss: 0.1459 - accuracy: 0.9433 - val_loss: 0.6722 - val_accuracy: 0.7849\n",
            "Epoch 44/100\n",
            "250/250 [==============================] - 30s 122ms/step - loss: 0.1516 - accuracy: 0.9396 - val_loss: 0.7040 - val_accuracy: 0.7729\n",
            "Epoch 45/100\n",
            "250/250 [==============================] - 30s 121ms/step - loss: 0.1392 - accuracy: 0.9466 - val_loss: 0.6801 - val_accuracy: 0.7922\n",
            "Epoch 46/100\n",
            "250/250 [==============================] - 31s 123ms/step - loss: 0.1289 - accuracy: 0.9511 - val_loss: 0.7332 - val_accuracy: 0.7844\n",
            "Epoch 47/100\n",
            "250/250 [==============================] - 30s 121ms/step - loss: 0.1365 - accuracy: 0.9460 - val_loss: 0.6664 - val_accuracy: 0.7797\n",
            "Epoch 48/100\n",
            "250/250 [==============================] - 30s 122ms/step - loss: 0.1330 - accuracy: 0.9491 - val_loss: 0.7081 - val_accuracy: 0.7917\n",
            "Epoch 49/100\n",
            "250/250 [==============================] - 31s 123ms/step - loss: 0.1296 - accuracy: 0.9504 - val_loss: 0.6908 - val_accuracy: 0.7984\n",
            "Epoch 50/100\n",
            "250/250 [==============================] - 31s 123ms/step - loss: 0.1291 - accuracy: 0.9498 - val_loss: 0.7411 - val_accuracy: 0.7891\n",
            "Epoch 51/100\n",
            "250/250 [==============================] - 31s 123ms/step - loss: 0.1158 - accuracy: 0.9553 - val_loss: 0.7691 - val_accuracy: 0.7750\n",
            "Epoch 52/100\n",
            "250/250 [==============================] - 31s 126ms/step - loss: 0.1135 - accuracy: 0.9557 - val_loss: 0.7475 - val_accuracy: 0.7922\n",
            "Epoch 53/100\n",
            "250/250 [==============================] - 32s 129ms/step - loss: 0.1040 - accuracy: 0.9616 - val_loss: 0.7994 - val_accuracy: 0.7870\n",
            "Epoch 54/100\n",
            "250/250 [==============================] - 32s 127ms/step - loss: 0.1075 - accuracy: 0.9590 - val_loss: 0.7527 - val_accuracy: 0.7984\n",
            "Epoch 55/100\n",
            "250/250 [==============================] - 31s 123ms/step - loss: 0.1118 - accuracy: 0.9578 - val_loss: 0.7988 - val_accuracy: 0.7797\n",
            "Epoch 56/100\n",
            "250/250 [==============================] - 32s 129ms/step - loss: 0.1018 - accuracy: 0.9594 - val_loss: 0.7875 - val_accuracy: 0.7927\n",
            "Epoch 57/100\n",
            "250/250 [==============================] - 33s 133ms/step - loss: 0.1052 - accuracy: 0.9625 - val_loss: 0.9203 - val_accuracy: 0.7750\n",
            "Epoch 58/100\n",
            "250/250 [==============================] - 32s 127ms/step - loss: 0.1016 - accuracy: 0.9604 - val_loss: 0.8711 - val_accuracy: 0.7854\n",
            "Epoch 59/100\n",
            "250/250 [==============================] - 32s 126ms/step - loss: 0.1043 - accuracy: 0.9610 - val_loss: 0.8082 - val_accuracy: 0.7990\n",
            "Epoch 60/100\n",
            "250/250 [==============================] - 32s 127ms/step - loss: 0.0931 - accuracy: 0.9650 - val_loss: 0.8286 - val_accuracy: 0.7865\n",
            "Epoch 61/100\n",
            "250/250 [==============================] - 31s 126ms/step - loss: 0.0901 - accuracy: 0.9661 - val_loss: 0.7670 - val_accuracy: 0.7943\n",
            "Epoch 62/100\n",
            "250/250 [==============================] - 31s 126ms/step - loss: 0.0873 - accuracy: 0.9661 - val_loss: 0.8441 - val_accuracy: 0.7823\n",
            "Epoch 63/100\n",
            "250/250 [==============================] - 31s 122ms/step - loss: 0.0839 - accuracy: 0.9693 - val_loss: 0.8466 - val_accuracy: 0.7901\n",
            "Epoch 64/100\n",
            "250/250 [==============================] - 31s 124ms/step - loss: 0.0920 - accuracy: 0.9639 - val_loss: 0.8642 - val_accuracy: 0.7839\n",
            "Epoch 65/100\n",
            "250/250 [==============================] - 31s 124ms/step - loss: 0.0785 - accuracy: 0.9729 - val_loss: 0.8583 - val_accuracy: 0.7854\n",
            "Epoch 66/100\n",
            "250/250 [==============================] - 31s 124ms/step - loss: 0.0829 - accuracy: 0.9695 - val_loss: 0.9286 - val_accuracy: 0.7682\n",
            "Epoch 67/100\n",
            "250/250 [==============================] - 31s 122ms/step - loss: 0.0833 - accuracy: 0.9695 - val_loss: 0.8797 - val_accuracy: 0.7849\n",
            "Epoch 68/100\n",
            "250/250 [==============================] - 31s 122ms/step - loss: 0.0744 - accuracy: 0.9711 - val_loss: 0.9105 - val_accuracy: 0.7927\n",
            "Epoch 69/100\n",
            "250/250 [==============================] - 31s 122ms/step - loss: 0.0742 - accuracy: 0.9730 - val_loss: 0.9317 - val_accuracy: 0.7901\n",
            "Epoch 70/100\n",
            "250/250 [==============================] - 30s 122ms/step - loss: 0.0755 - accuracy: 0.9739 - val_loss: 0.8928 - val_accuracy: 0.7901\n",
            "Epoch 71/100\n",
            "250/250 [==============================] - 30s 121ms/step - loss: 0.0753 - accuracy: 0.9710 - val_loss: 0.8607 - val_accuracy: 0.7771\n",
            "Epoch 72/100\n",
            "250/250 [==============================] - 31s 123ms/step - loss: 0.0813 - accuracy: 0.9682 - val_loss: 1.0113 - val_accuracy: 0.7630\n",
            "Epoch 73/100\n",
            "250/250 [==============================] - 31s 123ms/step - loss: 0.0682 - accuracy: 0.9739 - val_loss: 1.0083 - val_accuracy: 0.7719\n",
            "Epoch 74/100\n",
            "250/250 [==============================] - 31s 122ms/step - loss: 0.0662 - accuracy: 0.9759 - val_loss: 0.9882 - val_accuracy: 0.7771\n",
            "Epoch 75/100\n",
            "250/250 [==============================] - 31s 122ms/step - loss: 0.0691 - accuracy: 0.9746 - val_loss: 1.0904 - val_accuracy: 0.7807\n",
            "Epoch 76/100\n",
            "250/250 [==============================] - 31s 124ms/step - loss: 0.0620 - accuracy: 0.9761 - val_loss: 1.0528 - val_accuracy: 0.7781\n",
            "Epoch 77/100\n",
            "250/250 [==============================] - 31s 123ms/step - loss: 0.0650 - accuracy: 0.9750 - val_loss: 0.9568 - val_accuracy: 0.7839\n",
            "Epoch 78/100\n",
            "250/250 [==============================] - 32s 127ms/step - loss: 0.0677 - accuracy: 0.9761 - val_loss: 0.9666 - val_accuracy: 0.7870\n",
            "Epoch 79/100\n",
            "250/250 [==============================] - 30s 121ms/step - loss: 0.0713 - accuracy: 0.9737 - val_loss: 1.0524 - val_accuracy: 0.7807\n",
            "Epoch 80/100\n",
            "250/250 [==============================] - 30s 122ms/step - loss: 0.0688 - accuracy: 0.9734 - val_loss: 0.9846 - val_accuracy: 0.7745\n",
            "Epoch 81/100\n",
            "250/250 [==============================] - 31s 125ms/step - loss: 0.0672 - accuracy: 0.9756 - val_loss: 1.0960 - val_accuracy: 0.7677\n",
            "Epoch 82/100\n",
            "250/250 [==============================] - 31s 122ms/step - loss: 0.0621 - accuracy: 0.9772 - val_loss: 1.1670 - val_accuracy: 0.7714\n",
            "Epoch 83/100\n",
            "250/250 [==============================] - 30s 119ms/step - loss: 0.0654 - accuracy: 0.9768 - val_loss: 1.1555 - val_accuracy: 0.7766\n",
            "Epoch 84/100\n",
            "250/250 [==============================] - 30s 119ms/step - loss: 0.0518 - accuracy: 0.9819 - val_loss: 1.0661 - val_accuracy: 0.7896\n",
            "Epoch 85/100\n",
            "250/250 [==============================] - 30s 120ms/step - loss: 0.0669 - accuracy: 0.9755 - val_loss: 1.0101 - val_accuracy: 0.7865\n",
            "Epoch 86/100\n",
            "250/250 [==============================] - 30s 120ms/step - loss: 0.0682 - accuracy: 0.9741 - val_loss: 1.0928 - val_accuracy: 0.7901\n",
            "Epoch 87/100\n",
            "250/250 [==============================] - 30s 120ms/step - loss: 0.0633 - accuracy: 0.9765 - val_loss: 1.0259 - val_accuracy: 0.7885\n",
            "Epoch 88/100\n",
            "250/250 [==============================] - 30s 121ms/step - loss: 0.0533 - accuracy: 0.9815 - val_loss: 1.0444 - val_accuracy: 0.7891\n",
            "Epoch 89/100\n",
            "250/250 [==============================] - 30s 121ms/step - loss: 0.0562 - accuracy: 0.9795 - val_loss: 1.1094 - val_accuracy: 0.7812\n",
            "Epoch 90/100\n",
            "250/250 [==============================] - 31s 122ms/step - loss: 0.0771 - accuracy: 0.9721 - val_loss: 1.0018 - val_accuracy: 0.7844\n",
            "Epoch 91/100\n",
            "250/250 [==============================] - 30s 120ms/step - loss: 0.0663 - accuracy: 0.9753 - val_loss: 1.0927 - val_accuracy: 0.7719\n",
            "Epoch 92/100\n",
            "250/250 [==============================] - 31s 122ms/step - loss: 0.0643 - accuracy: 0.9786 - val_loss: 1.0296 - val_accuracy: 0.7917\n",
            "Epoch 93/100\n",
            "250/250 [==============================] - 30s 121ms/step - loss: 0.0608 - accuracy: 0.9778 - val_loss: 1.1132 - val_accuracy: 0.7786\n",
            "Epoch 94/100\n",
            "250/250 [==============================] - 30s 120ms/step - loss: 0.0543 - accuracy: 0.9816 - val_loss: 1.0627 - val_accuracy: 0.7880\n",
            "Epoch 95/100\n",
            "250/250 [==============================] - 30s 119ms/step - loss: 0.0487 - accuracy: 0.9831 - val_loss: 1.1223 - val_accuracy: 0.7859\n",
            "Epoch 96/100\n",
            "250/250 [==============================] - 30s 119ms/step - loss: 0.0503 - accuracy: 0.9825 - val_loss: 1.0811 - val_accuracy: 0.7880\n",
            "Epoch 97/100\n",
            "250/250 [==============================] - 29s 118ms/step - loss: 0.0583 - accuracy: 0.9797 - val_loss: 1.0865 - val_accuracy: 0.7818\n",
            "Epoch 98/100\n",
            "250/250 [==============================] - 30s 119ms/step - loss: 0.0502 - accuracy: 0.9825 - val_loss: 1.1259 - val_accuracy: 0.7880\n",
            "Epoch 99/100\n",
            "250/250 [==============================] - 30s 118ms/step - loss: 0.0488 - accuracy: 0.9836 - val_loss: 1.0846 - val_accuracy: 0.7958\n",
            "Epoch 100/100\n",
            "250/250 [==============================] - 30s 119ms/step - loss: 0.0473 - accuracy: 0.9826 - val_loss: 1.0560 - val_accuracy: 0.7875\n"
          ],
          "name": "stdout"
        },
        {
          "output_type": "execute_result",
          "data": {
            "text/plain": [
              "<tensorflow.python.keras.callbacks.History at 0x7f3ebed8b4a8>"
            ]
          },
          "metadata": {
            "tags": []
          },
          "execution_count": 43
        }
      ]
    },
    {
      "cell_type": "code",
      "metadata": {
        "id": "Rtfzhk_0149u",
        "colab_type": "code",
        "colab": {
          "base_uri": "https://localhost:8080/",
          "height": 34
        },
        "outputId": "2ff191dc-f8fa-42d0-93e7-baf06abebf23"
      },
      "source": [
        "CNN_Classifier.save(\"/content/drive/My Drive/cnn.model\")"
      ],
      "execution_count": null,
      "outputs": [
        {
          "output_type": "stream",
          "text": [
            "INFO:tensorflow:Assets written to: /content/drive/My Drive/cnn.model/assets\n"
          ],
          "name": "stdout"
        }
      ]
    },
    {
      "cell_type": "code",
      "metadata": {
        "id": "10rBvVX_PcAU",
        "colab_type": "code",
        "colab": {}
      },
      "source": [
        ""
      ],
      "execution_count": null,
      "outputs": []
    }
  ]
}