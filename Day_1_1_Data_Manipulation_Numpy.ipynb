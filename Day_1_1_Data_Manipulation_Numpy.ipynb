{
  "nbformat": 4,
  "nbformat_minor": 0,
  "metadata": {
    "colab": {
      "name": "Day 1_1 - Data Manipulation - Numpy.ipynb",
      "provenance": [],
      "collapsed_sections": [],
      "include_colab_link": true
    },
    "kernelspec": {
      "name": "python3",
      "display_name": "Python 3"
    }
  },
  "cells": [
    {
      "cell_type": "markdown",
      "metadata": {
        "id": "view-in-github",
        "colab_type": "text"
      },
      "source": [
        "<a href=\"https://colab.research.google.com/github/pokeychip19946/python-basics/blob/master/Day_1_1_Data_Manipulation_Numpy.ipynb\" target=\"_parent\"><img src=\"https://colab.research.google.com/assets/colab-badge.svg\" alt=\"Open In Colab\"/></a>"
      ]
    },
    {
      "cell_type": "code",
      "metadata": {
        "id": "GQN5NEaDgeJS",
        "colab_type": "code",
        "colab": {}
      },
      "source": [
        "print(\"We are learning Numpy\")   ### shift + enter"
      ],
      "execution_count": null,
      "outputs": []
    },
    {
      "cell_type": "code",
      "metadata": {
        "id": "o5EA8fOShmjS",
        "colab_type": "code",
        "colab": {}
      },
      "source": [
        "pip install numpy"
      ],
      "execution_count": null,
      "outputs": []
    },
    {
      "cell_type": "code",
      "metadata": {
        "id": "pccgoSwLiFrP",
        "colab_type": "code",
        "colab": {}
      },
      "source": [
        "import numpy as np"
      ],
      "execution_count": null,
      "outputs": []
    },
    {
      "cell_type": "code",
      "metadata": {
        "id": "YPbB3n8JiFzK",
        "colab_type": "code",
        "colab": {}
      },
      "source": [
        "#### Create an array with Numpy(1D)\n",
        "a = np.array([1,2,3,4,5])\n",
        "print(a)"
      ],
      "execution_count": null,
      "outputs": []
    },
    {
      "cell_type": "code",
      "metadata": {
        "id": "cq0vVAsdiF79",
        "colab_type": "code",
        "colab": {}
      },
      "source": [
        "#### Create an array with Numpy(2D)\n",
        "a = np.array([[1,2,3,4,5],[4,5,6,7,8],[6,4,2,4,5]])\n",
        "print(a)"
      ],
      "execution_count": null,
      "outputs": []
    },
    {
      "cell_type": "code",
      "metadata": {
        "id": "S42r-VhejjZK",
        "colab_type": "code",
        "colab": {}
      },
      "source": [
        "a.ndim"
      ],
      "execution_count": null,
      "outputs": []
    },
    {
      "cell_type": "code",
      "metadata": {
        "id": "2zW1eUYdkfH3",
        "colab_type": "code",
        "colab": {}
      },
      "source": [
        "#### Create an array with Numpy(3D)\n",
        "b = np.array([[[1,2,3,4,5],[4,5,6,7,8],[6,4,2,4,5]]])\n",
        "print(b)"
      ],
      "execution_count": null,
      "outputs": []
    },
    {
      "cell_type": "code",
      "metadata": {
        "id": "haiiWjpTkkYk",
        "colab_type": "code",
        "colab": {}
      },
      "source": [
        "b.ndim"
      ],
      "execution_count": null,
      "outputs": []
    },
    {
      "cell_type": "code",
      "metadata": {
        "id": "nWyrSRuKkmhB",
        "colab_type": "code",
        "colab": {}
      },
      "source": [
        "a.shape"
      ],
      "execution_count": null,
      "outputs": []
    },
    {
      "cell_type": "code",
      "metadata": {
        "id": "T1qXHVPYlDfH",
        "colab_type": "code",
        "colab": {}
      },
      "source": [
        "a"
      ],
      "execution_count": null,
      "outputs": []
    },
    {
      "cell_type": "code",
      "metadata": {
        "id": "c4XI4hOzlPXh",
        "colab_type": "code",
        "colab": {}
      },
      "source": [
        "b.shape"
      ],
      "execution_count": null,
      "outputs": []
    },
    {
      "cell_type": "code",
      "metadata": {
        "id": "NHrl2tBElW5v",
        "colab_type": "code",
        "colab": {}
      },
      "source": [
        "b"
      ],
      "execution_count": null,
      "outputs": []
    },
    {
      "cell_type": "code",
      "metadata": {
        "id": "hyTsp0ZKlZrf",
        "colab_type": "code",
        "colab": {}
      },
      "source": [
        "len(a)"
      ],
      "execution_count": null,
      "outputs": []
    },
    {
      "cell_type": "code",
      "metadata": {
        "id": "xqZzbQBilv5U",
        "colab_type": "code",
        "colab": {}
      },
      "source": [
        "len(b)"
      ],
      "execution_count": null,
      "outputs": []
    },
    {
      "cell_type": "code",
      "metadata": {
        "id": "NlS_9D3Dl7TC",
        "colab_type": "code",
        "colab": {}
      },
      "source": [
        "print(a,b)"
      ],
      "execution_count": null,
      "outputs": []
    },
    {
      "cell_type": "code",
      "metadata": {
        "id": "QGRQB1e8mJFv",
        "colab_type": "code",
        "colab": {
          "base_uri": "https://localhost:8080/",
          "height": 34
        },
        "outputId": "b8bac88d-05e9-4b65-a9cd-6d9da8b4f7af"
      },
      "source": [
        "a.size"
      ],
      "execution_count": null,
      "outputs": [
        {
          "output_type": "execute_result",
          "data": {
            "text/plain": [
              "15"
            ]
          },
          "metadata": {
            "tags": []
          },
          "execution_count": 18
        }
      ]
    },
    {
      "cell_type": "code",
      "metadata": {
        "id": "jPXFm2CBmhh6",
        "colab_type": "code",
        "colab": {
          "base_uri": "https://localhost:8080/",
          "height": 34
        },
        "outputId": "d72357c7-cab4-4d29-94fd-e70394c82cdd"
      },
      "source": [
        "a.dtype"
      ],
      "execution_count": null,
      "outputs": [
        {
          "output_type": "execute_result",
          "data": {
            "text/plain": [
              "dtype('int64')"
            ]
          },
          "metadata": {
            "tags": []
          },
          "execution_count": 19
        }
      ]
    },
    {
      "cell_type": "code",
      "metadata": {
        "id": "QYwX5F4Bm5BM",
        "colab_type": "code",
        "colab": {
          "base_uri": "https://localhost:8080/",
          "height": 34
        },
        "outputId": "ecc1ad69-e976-428e-a468-dc26bd6342ee"
      },
      "source": [
        "a.sum()"
      ],
      "execution_count": null,
      "outputs": [
        {
          "output_type": "execute_result",
          "data": {
            "text/plain": [
              "66"
            ]
          },
          "metadata": {
            "tags": []
          },
          "execution_count": 20
        }
      ]
    },
    {
      "cell_type": "code",
      "metadata": {
        "id": "xOxAwJDnnANV",
        "colab_type": "code",
        "colab": {}
      },
      "source": [
        "a.mean()"
      ],
      "execution_count": null,
      "outputs": []
    },
    {
      "cell_type": "code",
      "metadata": {
        "id": "rqnoRxsEnEcF",
        "colab_type": "code",
        "colab": {}
      },
      "source": [
        "a"
      ],
      "execution_count": null,
      "outputs": []
    },
    {
      "cell_type": "code",
      "metadata": {
        "id": "RHEloG07nLqo",
        "colab_type": "code",
        "colab": {}
      },
      "source": [
        "a.sum(axis=1)  ### row wise addition"
      ],
      "execution_count": null,
      "outputs": []
    },
    {
      "cell_type": "code",
      "metadata": {
        "id": "R8h8RbKAnOEj",
        "colab_type": "code",
        "colab": {}
      },
      "source": [
        "a.sum(axis=0)  ### column wise addition"
      ],
      "execution_count": null,
      "outputs": []
    },
    {
      "cell_type": "code",
      "metadata": {
        "id": "e8GWOE4NncQ-",
        "colab_type": "code",
        "colab": {}
      },
      "source": [
        "b"
      ],
      "execution_count": null,
      "outputs": []
    },
    {
      "cell_type": "code",
      "metadata": {
        "id": "y95AALpEnvbZ",
        "colab_type": "code",
        "colab": {}
      },
      "source": [
        "b.sum(axis=1)"
      ],
      "execution_count": null,
      "outputs": []
    },
    {
      "cell_type": "code",
      "metadata": {
        "id": "0pkn_8RJnzMq",
        "colab_type": "code",
        "colab": {}
      },
      "source": [
        "b.sum(axis=0)"
      ],
      "execution_count": null,
      "outputs": []
    },
    {
      "cell_type": "code",
      "metadata": {
        "id": "LajnR8tmn4dN",
        "colab_type": "code",
        "colab": {
          "base_uri": "https://localhost:8080/",
          "height": 34
        },
        "outputId": "6c990195-2f4f-400f-cf99-fa162347ff6f"
      },
      "source": [
        "a.min()"
      ],
      "execution_count": null,
      "outputs": [
        {
          "output_type": "execute_result",
          "data": {
            "text/plain": [
              "1"
            ]
          },
          "metadata": {
            "tags": []
          },
          "execution_count": 28
        }
      ]
    },
    {
      "cell_type": "code",
      "metadata": {
        "id": "Vw9YhZehoXzO",
        "colab_type": "code",
        "colab": {
          "base_uri": "https://localhost:8080/",
          "height": 69
        },
        "outputId": "4d5f4747-35ae-44c4-ae92-f3ebc8df1621"
      },
      "source": [
        "a"
      ],
      "execution_count": null,
      "outputs": [
        {
          "output_type": "execute_result",
          "data": {
            "text/plain": [
              "array([[1, 2, 3, 4, 5],\n",
              "       [4, 5, 6, 7, 8],\n",
              "       [6, 4, 2, 4, 5]])"
            ]
          },
          "metadata": {
            "tags": []
          },
          "execution_count": 29
        }
      ]
    },
    {
      "cell_type": "code",
      "metadata": {
        "id": "qtbk7PsKoYwO",
        "colab_type": "code",
        "colab": {}
      },
      "source": [
        "a.max()"
      ],
      "execution_count": null,
      "outputs": []
    },
    {
      "cell_type": "code",
      "metadata": {
        "id": "FkppEGZdobdD",
        "colab_type": "code",
        "colab": {}
      },
      "source": [
        "a.argmin()"
      ],
      "execution_count": null,
      "outputs": []
    },
    {
      "cell_type": "code",
      "metadata": {
        "id": "r9B4Hcrdof3h",
        "colab_type": "code",
        "colab": {}
      },
      "source": [
        "a.argmax()"
      ],
      "execution_count": null,
      "outputs": []
    },
    {
      "cell_type": "code",
      "metadata": {
        "id": "r9i4W4GupOMe",
        "colab_type": "code",
        "colab": {
          "base_uri": "https://localhost:8080/",
          "height": 104
        },
        "outputId": "a6fb0642-cff3-4237-8629-329fcc611467"
      },
      "source": [
        "a = np.array([[1,2,3,4,5],[4,5,6,7,8],[6,4,2,4,5],[60,40,2,40,50],[6,40,20,40,5]])\n",
        "print(a)"
      ],
      "execution_count": null,
      "outputs": [
        {
          "output_type": "stream",
          "text": [
            "[[ 1  2  3  4  5]\n",
            " [ 4  5  6  7  8]\n",
            " [ 6  4  2  4  5]\n",
            " [60 40  2 40 50]\n",
            " [ 6 40 20 40  5]]\n"
          ],
          "name": "stdout"
        }
      ]
    },
    {
      "cell_type": "code",
      "metadata": {
        "id": "V-w07ZdyohR0",
        "colab_type": "code",
        "colab": {
          "base_uri": "https://localhost:8080/",
          "height": 34
        },
        "outputId": "5c53abbd-259d-4e5f-c0dd-4a0daf5ef9ea"
      },
      "source": [
        "#### Picking elements from array\n",
        "a[1]"
      ],
      "execution_count": null,
      "outputs": [
        {
          "output_type": "execute_result",
          "data": {
            "text/plain": [
              "array([4, 5, 6, 7, 8])"
            ]
          },
          "metadata": {
            "tags": []
          },
          "execution_count": 37
        }
      ]
    },
    {
      "cell_type": "code",
      "metadata": {
        "id": "_WuKWYTqpWMt",
        "colab_type": "code",
        "colab": {
          "base_uri": "https://localhost:8080/",
          "height": 86
        },
        "outputId": "1a9a1c07-8d7b-4c17-afe9-6d14b16bcfdd"
      },
      "source": [
        "a[1:]"
      ],
      "execution_count": null,
      "outputs": [
        {
          "output_type": "execute_result",
          "data": {
            "text/plain": [
              "array([[ 4,  5,  6,  7,  8],\n",
              "       [ 6,  4,  2,  4,  5],\n",
              "       [60, 40,  2, 40, 50],\n",
              "       [ 6, 40, 20, 40,  5]])"
            ]
          },
          "metadata": {
            "tags": []
          },
          "execution_count": 38
        }
      ]
    },
    {
      "cell_type": "code",
      "metadata": {
        "id": "AZWNjdfLpcXg",
        "colab_type": "code",
        "colab": {
          "base_uri": "https://localhost:8080/",
          "height": 69
        },
        "outputId": "3a241332-8cba-4570-c086-13cdb3e9f0f9"
      },
      "source": [
        "a[1:4]"
      ],
      "execution_count": null,
      "outputs": [
        {
          "output_type": "execute_result",
          "data": {
            "text/plain": [
              "array([[ 4,  5,  6,  7,  8],\n",
              "       [ 6,  4,  2,  4,  5],\n",
              "       [60, 40,  2, 40, 50]])"
            ]
          },
          "metadata": {
            "tags": []
          },
          "execution_count": 41
        }
      ]
    },
    {
      "cell_type": "code",
      "metadata": {
        "id": "Kf2NIjkupylg",
        "colab_type": "code",
        "colab": {
          "base_uri": "https://localhost:8080/",
          "height": 34
        },
        "outputId": "fe549941-e507-4fe2-f040-f2e86fe504b0"
      },
      "source": [
        "a[1,2]"
      ],
      "execution_count": null,
      "outputs": [
        {
          "output_type": "execute_result",
          "data": {
            "text/plain": [
              "6"
            ]
          },
          "metadata": {
            "tags": []
          },
          "execution_count": 42
        }
      ]
    },
    {
      "cell_type": "code",
      "metadata": {
        "id": "5Jp351T6qEUT",
        "colab_type": "code",
        "colab": {
          "base_uri": "https://localhost:8080/",
          "height": 34
        },
        "outputId": "5213e67b-085d-4027-f906-6057f79a6889"
      },
      "source": [
        "a[1][2]"
      ],
      "execution_count": null,
      "outputs": [
        {
          "output_type": "execute_result",
          "data": {
            "text/plain": [
              "6"
            ]
          },
          "metadata": {
            "tags": []
          },
          "execution_count": 43
        }
      ]
    },
    {
      "cell_type": "code",
      "metadata": {
        "id": "MojdS21sqGVy",
        "colab_type": "code",
        "colab": {
          "base_uri": "https://localhost:8080/",
          "height": 34
        },
        "outputId": "75a309a7-ac60-4de0-f62a-a02088fd379a"
      },
      "source": [
        "a[:,2]"
      ],
      "execution_count": null,
      "outputs": [
        {
          "output_type": "execute_result",
          "data": {
            "text/plain": [
              "array([ 3,  6,  2,  2, 20])"
            ]
          },
          "metadata": {
            "tags": []
          },
          "execution_count": 45
        }
      ]
    },
    {
      "cell_type": "code",
      "metadata": {
        "id": "LWYWteEzqZ5N",
        "colab_type": "code",
        "colab": {
          "base_uri": "https://localhost:8080/",
          "height": 104
        },
        "outputId": "e95fcea0-24d6-4a03-d416-2117791158d3"
      },
      "source": [
        "a"
      ],
      "execution_count": null,
      "outputs": [
        {
          "output_type": "execute_result",
          "data": {
            "text/plain": [
              "array([[ 1,  2,  3,  4,  5],\n",
              "       [ 4,  5,  6,  7,  8],\n",
              "       [ 6,  4,  2,  4,  5],\n",
              "       [60, 40,  2, 40, 50],\n",
              "       [ 6, 40, 20, 40,  5]])"
            ]
          },
          "metadata": {
            "tags": []
          },
          "execution_count": 46
        }
      ]
    },
    {
      "cell_type": "code",
      "metadata": {
        "id": "l5quKagKqkNj",
        "colab_type": "code",
        "colab": {
          "base_uri": "https://localhost:8080/",
          "height": 34
        },
        "outputId": "38d04f59-d9d3-457b-8f55-2dd5b4886db2"
      },
      "source": [
        "a[1:5,3]"
      ],
      "execution_count": null,
      "outputs": [
        {
          "output_type": "execute_result",
          "data": {
            "text/plain": [
              "array([ 7,  4, 40, 40])"
            ]
          },
          "metadata": {
            "tags": []
          },
          "execution_count": 47
        }
      ]
    },
    {
      "cell_type": "code",
      "metadata": {
        "id": "-3uv6gypqwwk",
        "colab_type": "code",
        "colab": {
          "base_uri": "https://localhost:8080/",
          "height": 69
        },
        "outputId": "072a0471-2f3f-4331-a98b-d0931faa4a35"
      },
      "source": [
        "b"
      ],
      "execution_count": null,
      "outputs": [
        {
          "output_type": "execute_result",
          "data": {
            "text/plain": [
              "array([[[1, 2, 3, 4, 5],\n",
              "        [4, 5, 6, 7, 8],\n",
              "        [6, 4, 2, 4, 5]]])"
            ]
          },
          "metadata": {
            "tags": []
          },
          "execution_count": 48
        }
      ]
    },
    {
      "cell_type": "code",
      "metadata": {
        "id": "I5qN-TYNq3Q7",
        "colab_type": "code",
        "colab": {
          "base_uri": "https://localhost:8080/",
          "height": 34
        },
        "outputId": "2cb2eb9a-ee6e-4114-b906-6a02db63e53a"
      },
      "source": [
        "b[0][1][2]"
      ],
      "execution_count": null,
      "outputs": [
        {
          "output_type": "execute_result",
          "data": {
            "text/plain": [
              "6"
            ]
          },
          "metadata": {
            "tags": []
          },
          "execution_count": 53
        }
      ]
    },
    {
      "cell_type": "code",
      "metadata": {
        "id": "5vK0CQCvq7o3",
        "colab_type": "code",
        "colab": {}
      },
      "source": [
        "a"
      ],
      "execution_count": null,
      "outputs": []
    },
    {
      "cell_type": "code",
      "metadata": {
        "id": "BX1RML9jrbgQ",
        "colab_type": "code",
        "colab": {}
      },
      "source": [
        "a[:,2]"
      ],
      "execution_count": null,
      "outputs": []
    },
    {
      "cell_type": "code",
      "metadata": {
        "id": "jti_HkU-rcxh",
        "colab_type": "code",
        "colab": {}
      },
      "source": [
        "a[2]"
      ],
      "execution_count": null,
      "outputs": []
    },
    {
      "cell_type": "code",
      "metadata": {
        "id": "EZcEknICsAGU",
        "colab_type": "code",
        "colab": {}
      },
      "source": [
        "a.shape"
      ],
      "execution_count": null,
      "outputs": []
    },
    {
      "cell_type": "code",
      "metadata": {
        "id": "Gi4bRiKQsODz",
        "colab_type": "code",
        "colab": {}
      },
      "source": [
        "a.reshape(25,1)"
      ],
      "execution_count": null,
      "outputs": []
    },
    {
      "cell_type": "code",
      "metadata": {
        "id": "G4ADEHYlsbKf",
        "colab_type": "code",
        "colab": {}
      },
      "source": [
        "a = a.reshape(1,5,5)"
      ],
      "execution_count": null,
      "outputs": []
    },
    {
      "cell_type": "code",
      "metadata": {
        "id": "Ipg5Y-9usiO4",
        "colab_type": "code",
        "colab": {}
      },
      "source": [
        "a"
      ],
      "execution_count": null,
      "outputs": []
    },
    {
      "cell_type": "code",
      "metadata": {
        "id": "kJb4DACUsro5",
        "colab_type": "code",
        "colab": {}
      },
      "source": [
        "### Zero Matrix\n",
        "z = np.zeros((4,5))\n",
        "z"
      ],
      "execution_count": null,
      "outputs": []
    },
    {
      "cell_type": "code",
      "metadata": {
        "id": "oMDkPeels_aX",
        "colab_type": "code",
        "colab": {}
      },
      "source": [
        "### Ones Matrix\n",
        "o = np.ones((4,5))\n",
        "o"
      ],
      "execution_count": null,
      "outputs": []
    },
    {
      "cell_type": "code",
      "metadata": {
        "id": "BtA3sdc7tIAn",
        "colab_type": "code",
        "colab": {}
      },
      "source": [
        "### Identity Matrix\n",
        "i = np.identity(5)\n",
        "i"
      ],
      "execution_count": null,
      "outputs": []
    },
    {
      "cell_type": "code",
      "metadata": {
        "id": "zL7uXlFytRVW",
        "colab_type": "code",
        "colab": {
          "base_uri": "https://localhost:8080/",
          "height": 104
        },
        "outputId": "d89b9cc9-501f-4572-8c1d-17dfbe358ac3"
      },
      "source": [
        "i.astype('int')"
      ],
      "execution_count": null,
      "outputs": [
        {
          "output_type": "execute_result",
          "data": {
            "text/plain": [
              "array([[1, 0, 0, 0, 0],\n",
              "       [0, 1, 0, 0, 0],\n",
              "       [0, 0, 1, 0, 0],\n",
              "       [0, 0, 0, 1, 0],\n",
              "       [0, 0, 0, 0, 1]])"
            ]
          },
          "metadata": {
            "tags": []
          },
          "execution_count": 69
        }
      ]
    },
    {
      "cell_type": "code",
      "metadata": {
        "id": "fWDG8gOWtZfB",
        "colab_type": "code",
        "colab": {}
      },
      "source": [
        "### Generate some equidistant numbers between a range\n",
        "a = np.linspace(1,100,30)\n",
        "a"
      ],
      "execution_count": null,
      "outputs": []
    },
    {
      "cell_type": "code",
      "metadata": {
        "id": "kdsCl9MyuCQL",
        "colab_type": "code",
        "colab": {}
      },
      "source": [
        "a = np.linspace(1,100,10)\n",
        "a"
      ],
      "execution_count": null,
      "outputs": []
    },
    {
      "cell_type": "code",
      "metadata": {
        "id": "DkdxGMMauKsJ",
        "colab_type": "code",
        "colab": {}
      },
      "source": [
        "a = np.linspace(1,100,100)\n",
        "a"
      ],
      "execution_count": null,
      "outputs": []
    },
    {
      "cell_type": "code",
      "metadata": {
        "id": "vtd_jva9ucRv",
        "colab_type": "code",
        "colab": {}
      },
      "source": [
        "b = np.arange(1,101,5)\n",
        "b"
      ],
      "execution_count": null,
      "outputs": []
    },
    {
      "cell_type": "code",
      "metadata": {
        "id": "MeKUPfPeuq7G",
        "colab_type": "code",
        "colab": {}
      },
      "source": [
        "### random numbers\n",
        "a = np.random.randint(1,100)"
      ],
      "execution_count": null,
      "outputs": []
    },
    {
      "cell_type": "code",
      "metadata": {
        "id": "Q34Ziq2zvP6B",
        "colab_type": "code",
        "colab": {}
      },
      "source": [
        "np.random.randint(1,101,5)"
      ],
      "execution_count": null,
      "outputs": []
    },
    {
      "cell_type": "code",
      "metadata": {
        "id": "Rwtv_o4Qvgb4",
        "colab_type": "code",
        "colab": {}
      },
      "source": [
        "a"
      ],
      "execution_count": null,
      "outputs": []
    },
    {
      "cell_type": "code",
      "metadata": {
        "id": "4KCiBR_Cv54z",
        "colab_type": "code",
        "colab": {}
      },
      "source": [
        "### Seed Concept\n",
        "np.random.seed(3)\n",
        "np.random.randint(1,101)"
      ],
      "execution_count": null,
      "outputs": []
    },
    {
      "cell_type": "code",
      "metadata": {
        "id": "odoAgcKMwGLN",
        "colab_type": "code",
        "colab": {}
      },
      "source": [
        "np.random.randint(1,100,(3,4))"
      ],
      "execution_count": null,
      "outputs": []
    },
    {
      "cell_type": "code",
      "metadata": {
        "id": "JFXrvvaixDZ0",
        "colab_type": "code",
        "colab": {}
      },
      "source": [
        "np.random.random(10)"
      ],
      "execution_count": null,
      "outputs": []
    },
    {
      "cell_type": "code",
      "metadata": {
        "id": "hwgWa8pZxN0w",
        "colab_type": "code",
        "colab": {
          "base_uri": "https://localhost:8080/",
          "height": 86
        },
        "outputId": "d3364fe4-9443-4d5c-9a83-b1e68436de89"
      },
      "source": [
        "np.random.random((4,4))"
      ],
      "execution_count": null,
      "outputs": [
        {
          "output_type": "execute_result",
          "data": {
            "text/plain": [
              "array([[0.55277195, 0.30636063, 0.58661997, 0.27492011],\n",
              "       [0.45460777, 0.75766525, 0.81757073, 0.25758529],\n",
              "       [0.89306511, 0.71842202, 0.0206145 , 0.14271733],\n",
              "       [0.32530618, 0.8089292 , 0.39899095, 0.42470161]])"
            ]
          },
          "metadata": {
            "tags": []
          },
          "execution_count": 102
        }
      ]
    },
    {
      "cell_type": "code",
      "metadata": {
        "id": "DdUQ-4OixSPC",
        "colab_type": "code",
        "colab": {
          "base_uri": "https://localhost:8080/",
          "height": 155
        },
        "outputId": "8a730f21-bd32-4cb8-9faf-1974f143ce08"
      },
      "source": [
        "a = np.linspace(1,100,30)\n",
        "a"
      ],
      "execution_count": null,
      "outputs": [
        {
          "output_type": "execute_result",
          "data": {
            "text/plain": [
              "array([  1.        ,   4.4137931 ,   7.82758621,  11.24137931,\n",
              "        14.65517241,  18.06896552,  21.48275862,  24.89655172,\n",
              "        28.31034483,  31.72413793,  35.13793103,  38.55172414,\n",
              "        41.96551724,  45.37931034,  48.79310345,  52.20689655,\n",
              "        55.62068966,  59.03448276,  62.44827586,  65.86206897,\n",
              "        69.27586207,  72.68965517,  76.10344828,  79.51724138,\n",
              "        82.93103448,  86.34482759,  89.75862069,  93.17241379,\n",
              "        96.5862069 , 100.        ])"
            ]
          },
          "metadata": {
            "tags": []
          },
          "execution_count": 103
        }
      ]
    },
    {
      "cell_type": "code",
      "metadata": {
        "id": "f6OcJXB7xq5l",
        "colab_type": "code",
        "colab": {
          "base_uri": "https://localhost:8080/",
          "height": 69
        },
        "outputId": "a5920ae2-6c69-4356-eb1f-ecfa03e4bfa2"
      },
      "source": [
        "np.round(a)"
      ],
      "execution_count": null,
      "outputs": [
        {
          "output_type": "execute_result",
          "data": {
            "text/plain": [
              "array([  1.,   4.,   8.,  11.,  15.,  18.,  21.,  25.,  28.,  32.,  35.,\n",
              "        39.,  42.,  45.,  49.,  52.,  56.,  59.,  62.,  66.,  69.,  73.,\n",
              "        76.,  80.,  83.,  86.,  90.,  93.,  97., 100.])"
            ]
          },
          "metadata": {
            "tags": []
          },
          "execution_count": 104
        }
      ]
    },
    {
      "cell_type": "code",
      "metadata": {
        "id": "M45hxYbzxwTN",
        "colab_type": "code",
        "colab": {
          "base_uri": "https://localhost:8080/",
          "height": 86
        },
        "outputId": "65c9d30d-66b9-473b-ae43-dad3ad9b4552"
      },
      "source": [
        "np.round(a,2)"
      ],
      "execution_count": null,
      "outputs": [
        {
          "output_type": "execute_result",
          "data": {
            "text/plain": [
              "array([  1.  ,   4.41,   7.83,  11.24,  14.66,  18.07,  21.48,  24.9 ,\n",
              "        28.31,  31.72,  35.14,  38.55,  41.97,  45.38,  48.79,  52.21,\n",
              "        55.62,  59.03,  62.45,  65.86,  69.28,  72.69,  76.1 ,  79.52,\n",
              "        82.93,  86.34,  89.76,  93.17,  96.59, 100.  ])"
            ]
          },
          "metadata": {
            "tags": []
          },
          "execution_count": 105
        }
      ]
    },
    {
      "cell_type": "code",
      "metadata": {
        "id": "OA1_K6zKx3eN",
        "colab_type": "code",
        "colab": {
          "base_uri": "https://localhost:8080/",
          "height": 69
        },
        "outputId": "6f6b73f9-0ce8-4560-cf63-fe6af42e203e"
      },
      "source": [
        "np.trunc(a)"
      ],
      "execution_count": null,
      "outputs": [
        {
          "output_type": "execute_result",
          "data": {
            "text/plain": [
              "array([  1.,   4.,   7.,  11.,  14.,  18.,  21.,  24.,  28.,  31.,  35.,\n",
              "        38.,  41.,  45.,  48.,  52.,  55.,  59.,  62.,  65.,  69.,  72.,\n",
              "        76.,  79.,  82.,  86.,  89.,  93.,  96., 100.])"
            ]
          },
          "metadata": {
            "tags": []
          },
          "execution_count": 106
        }
      ]
    },
    {
      "cell_type": "code",
      "metadata": {
        "id": "EyAqNCctyN_H",
        "colab_type": "code",
        "colab": {}
      },
      "source": [
        "a = np.array([[1,2,3],[4,5,6]])\n",
        "b = np.array([[10,20,30],[40,50,60],[6,7,8]])"
      ],
      "execution_count": null,
      "outputs": []
    },
    {
      "cell_type": "code",
      "metadata": {
        "id": "x1A1X8tgy0M1",
        "colab_type": "code",
        "colab": {
          "base_uri": "https://localhost:8080/",
          "height": 34
        },
        "outputId": "e5e948ce-a581-442b-a015-529303bb4db5"
      },
      "source": [
        "a.shape"
      ],
      "execution_count": null,
      "outputs": [
        {
          "output_type": "execute_result",
          "data": {
            "text/plain": [
              "(2, 3)"
            ]
          },
          "metadata": {
            "tags": []
          },
          "execution_count": 108
        }
      ]
    },
    {
      "cell_type": "code",
      "metadata": {
        "id": "6oMG2fygy2cO",
        "colab_type": "code",
        "colab": {
          "base_uri": "https://localhost:8080/",
          "height": 34
        },
        "outputId": "8b43fd3d-65c8-436c-affa-ead20ae2b2a4"
      },
      "source": [
        "b.shape"
      ],
      "execution_count": null,
      "outputs": [
        {
          "output_type": "execute_result",
          "data": {
            "text/plain": [
              "(3, 3)"
            ]
          },
          "metadata": {
            "tags": []
          },
          "execution_count": 109
        }
      ]
    },
    {
      "cell_type": "code",
      "metadata": {
        "id": "UfAMZYFmy3KX",
        "colab_type": "code",
        "colab": {
          "base_uri": "https://localhost:8080/",
          "height": 52
        },
        "outputId": "40cda39b-7d63-4e8f-ba6b-5a573ec3e21f"
      },
      "source": [
        "np.dot(a,b)"
      ],
      "execution_count": null,
      "outputs": [
        {
          "output_type": "execute_result",
          "data": {
            "text/plain": [
              "array([[108, 141, 174],\n",
              "       [276, 372, 468]])"
            ]
          },
          "metadata": {
            "tags": []
          },
          "execution_count": 110
        }
      ]
    },
    {
      "cell_type": "code",
      "metadata": {
        "id": "T0KLRBp0zBp0",
        "colab_type": "code",
        "colab": {
          "base_uri": "https://localhost:8080/",
          "height": 69
        },
        "outputId": "6af1ec90-a93c-41b4-8585-bccf42eec1b4"
      },
      "source": [
        "np.dot(b,a.T)"
      ],
      "execution_count": null,
      "outputs": [
        {
          "output_type": "execute_result",
          "data": {
            "text/plain": [
              "array([[140, 320],\n",
              "       [320, 770],\n",
              "       [ 44, 107]])"
            ]
          },
          "metadata": {
            "tags": []
          },
          "execution_count": 113
        }
      ]
    },
    {
      "cell_type": "code",
      "metadata": {
        "id": "zCuR1-0GzFiv",
        "colab_type": "code",
        "colab": {
          "base_uri": "https://localhost:8080/",
          "height": 34
        },
        "outputId": "9a86361c-3bee-4106-bfc0-93ec606a8cdf"
      },
      "source": [
        "np.pi"
      ],
      "execution_count": null,
      "outputs": [
        {
          "output_type": "execute_result",
          "data": {
            "text/plain": [
              "3.141592653589793"
            ]
          },
          "metadata": {
            "tags": []
          },
          "execution_count": 114
        }
      ]
    },
    {
      "cell_type": "code",
      "metadata": {
        "id": "VQICPTzqzcYl",
        "colab_type": "code",
        "colab": {
          "base_uri": "https://localhost:8080/",
          "height": 34
        },
        "outputId": "47bb5691-d639-4aee-a8ed-0f05e863696a"
      },
      "source": [
        "np.cos(90)"
      ],
      "execution_count": null,
      "outputs": [
        {
          "output_type": "execute_result",
          "data": {
            "text/plain": [
              "-0.4480736161291701"
            ]
          },
          "metadata": {
            "tags": []
          },
          "execution_count": 115
        }
      ]
    },
    {
      "cell_type": "code",
      "metadata": {
        "id": "oJaRXo2TzfNr",
        "colab_type": "code",
        "colab": {
          "base_uri": "https://localhost:8080/",
          "height": 34
        },
        "outputId": "09e4ad68-ecf5-44a6-f57a-ea04d145ae63"
      },
      "source": [
        "np.tan(90)"
      ],
      "execution_count": null,
      "outputs": [
        {
          "output_type": "execute_result",
          "data": {
            "text/plain": [
              "-1.995200412208242"
            ]
          },
          "metadata": {
            "tags": []
          },
          "execution_count": 116
        }
      ]
    },
    {
      "cell_type": "code",
      "metadata": {
        "id": "Xpc-ZechzinT",
        "colab_type": "code",
        "colab": {
          "base_uri": "https://localhost:8080/",
          "height": 34
        },
        "outputId": "120713eb-e80e-4601-91a2-2ab8ada962d0"
      },
      "source": [
        "np.sin(90)"
      ],
      "execution_count": null,
      "outputs": [
        {
          "output_type": "execute_result",
          "data": {
            "text/plain": [
              "0.8939966636005579"
            ]
          },
          "metadata": {
            "tags": []
          },
          "execution_count": 117
        }
      ]
    },
    {
      "cell_type": "code",
      "metadata": {
        "id": "hM5DdSnjzkiY",
        "colab_type": "code",
        "colab": {
          "base_uri": "https://localhost:8080/",
          "height": 34
        },
        "outputId": "159433d8-3066-4933-9239-a7efa7b6b356"
      },
      "source": [
        "np.cos(np.pi/2)"
      ],
      "execution_count": null,
      "outputs": [
        {
          "output_type": "execute_result",
          "data": {
            "text/plain": [
              "6.123233995736766e-17"
            ]
          },
          "metadata": {
            "tags": []
          },
          "execution_count": 119
        }
      ]
    },
    {
      "cell_type": "code",
      "metadata": {
        "id": "FPUHTxa3zmeZ",
        "colab_type": "code",
        "colab": {
          "base_uri": "https://localhost:8080/",
          "height": 34
        },
        "outputId": "3eb919ea-9bba-4164-d5c2-5be9e6f9c67a"
      },
      "source": [
        "np.exp(10)"
      ],
      "execution_count": null,
      "outputs": [
        {
          "output_type": "execute_result",
          "data": {
            "text/plain": [
              "22026.465794806718"
            ]
          },
          "metadata": {
            "tags": []
          },
          "execution_count": 120
        }
      ]
    },
    {
      "cell_type": "code",
      "metadata": {
        "id": "0_K6eeXF0Piv",
        "colab_type": "code",
        "colab": {
          "base_uri": "https://localhost:8080/",
          "height": 34
        },
        "outputId": "220e946c-a09f-4925-d659-7c19e7a512b6"
      },
      "source": [
        "np.log(10)"
      ],
      "execution_count": null,
      "outputs": [
        {
          "output_type": "execute_result",
          "data": {
            "text/plain": [
              "2.302585092994046"
            ]
          },
          "metadata": {
            "tags": []
          },
          "execution_count": 122
        }
      ]
    },
    {
      "cell_type": "code",
      "metadata": {
        "id": "dmA4h9fo0Xj7",
        "colab_type": "code",
        "colab": {
          "base_uri": "https://localhost:8080/",
          "height": 34
        },
        "outputId": "ab0bfd70-3782-416d-f8bc-fa21a09e5506"
      },
      "source": [
        "np.log10(10)"
      ],
      "execution_count": null,
      "outputs": [
        {
          "output_type": "execute_result",
          "data": {
            "text/plain": [
              "1.0"
            ]
          },
          "metadata": {
            "tags": []
          },
          "execution_count": 128
        }
      ]
    },
    {
      "cell_type": "code",
      "metadata": {
        "id": "8VDuXfoS1PIZ",
        "colab_type": "code",
        "colab": {
          "base_uri": "https://localhost:8080/",
          "height": 34
        },
        "outputId": "efb31093-4726-499d-940c-247e8449d07d"
      },
      "source": [
        "np.cos(np.degrees(180))"
      ],
      "execution_count": null,
      "outputs": [
        {
          "output_type": "execute_result",
          "data": {
            "text/plain": [
              "-0.8205810566088714"
            ]
          },
          "metadata": {
            "tags": []
          },
          "execution_count": 132
        }
      ]
    },
    {
      "cell_type": "code",
      "metadata": {
        "id": "9prdMhXd1vAg",
        "colab_type": "code",
        "colab": {
          "base_uri": "https://localhost:8080/",
          "height": 104
        },
        "outputId": "64eb8aa3-05ba-48fc-ef9c-aa2e1b87ad16"
      },
      "source": [
        "a = np.array([[1,2,3,4,5],[4,5,6,7,8],[6,4,2,4,5],[60,40,2,40,50],[6,40,20,40,5]])\n",
        "print(a)"
      ],
      "execution_count": null,
      "outputs": [
        {
          "output_type": "stream",
          "text": [
            "[[ 1  2  3  4  5]\n",
            " [ 4  5  6  7  8]\n",
            " [ 6  4  2  4  5]\n",
            " [60 40  2 40 50]\n",
            " [ 6 40 20 40  5]]\n"
          ],
          "name": "stdout"
        }
      ]
    },
    {
      "cell_type": "code",
      "metadata": {
        "id": "_j0SmoOa2T2R",
        "colab_type": "code",
        "colab": {
          "base_uri": "https://localhost:8080/",
          "height": 104
        },
        "outputId": "ffe9e0b3-0f0e-4e44-acf3-02a109a721d6"
      },
      "source": [
        "a[:,1:3] "
      ],
      "execution_count": null,
      "outputs": [
        {
          "output_type": "execute_result",
          "data": {
            "text/plain": [
              "array([[ 2,  3],\n",
              "       [ 5,  6],\n",
              "       [ 4,  2],\n",
              "       [40,  2],\n",
              "       [40, 20]])"
            ]
          },
          "metadata": {
            "tags": []
          },
          "execution_count": 137
        }
      ]
    },
    {
      "cell_type": "code",
      "metadata": {
        "id": "tULF1ENc2XOP",
        "colab_type": "code",
        "colab": {}
      },
      "source": [
        ""
      ],
      "execution_count": null,
      "outputs": []
    }
  ]
}