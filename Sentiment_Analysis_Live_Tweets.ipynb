{
  "nbformat": 4,
  "nbformat_minor": 0,
  "metadata": {
    "colab": {
      "name": "Sentiment Analysis - Live Tweets.ipynb",
      "provenance": [],
      "collapsed_sections": [],
      "include_colab_link": true
    },
    "kernelspec": {
      "name": "python3",
      "display_name": "Python 3"
    }
  },
  "cells": [
    {
      "cell_type": "markdown",
      "metadata": {
        "id": "view-in-github",
        "colab_type": "text"
      },
      "source": [
        "<a href=\"https://colab.research.google.com/github/pokeychip19946/python-basics/blob/master/Sentiment_Analysis_Live_Tweets.ipynb\" target=\"_parent\"><img src=\"https://colab.research.google.com/assets/colab-badge.svg\" alt=\"Open In Colab\"/></a>"
      ]
    },
    {
      "cell_type": "code",
      "metadata": {
        "id": "1qC6vkfzt_zu",
        "colab_type": "code",
        "colab": {}
      },
      "source": [
        "api = \"hBTW6JlFByukM7BZ4H8qWbhS5\"\n",
        "api_secret = \"zFyEc1yya2imB5VKPuS1QrKN64f0R8rLJaEvtW1g6HV2fp9E4y\"\n",
        "access = \"182925782-9X5uzm7KTaMFVtmiBiM14nd72fb1js4rP8KFOcif\"\n",
        "access_secret = \"U9j9TEVzDxxzC9tdypQrbDoDO2DnY8SB3ILP0ZTt3BIqR\""
      ],
      "execution_count": null,
      "outputs": []
    },
    {
      "cell_type": "code",
      "metadata": {
        "id": "DZ11G446ufu4",
        "colab_type": "code",
        "colab": {}
      },
      "source": [
        "import tweepy"
      ],
      "execution_count": null,
      "outputs": []
    },
    {
      "cell_type": "code",
      "metadata": {
        "id": "itWUysksu-QW",
        "colab_type": "code",
        "colab": {}
      },
      "source": [
        "auth = tweepy.OAuthHandler(api,api_secret)\n",
        "auth.set_access_token(access,access_secret)"
      ],
      "execution_count": null,
      "outputs": []
    },
    {
      "cell_type": "code",
      "metadata": {
        "id": "IbWP1YXyvY4Q",
        "colab_type": "code",
        "colab": {}
      },
      "source": [
        "api = tweepy.API(auth)"
      ],
      "execution_count": null,
      "outputs": []
    },
    {
      "cell_type": "code",
      "metadata": {
        "id": "UXaO-uL9vecP",
        "colab_type": "code",
        "colab": {}
      },
      "source": [
        "tweets = api.search(\"sushant singh rajput\")"
      ],
      "execution_count": null,
      "outputs": []
    },
    {
      "cell_type": "code",
      "metadata": {
        "id": "shpadsecwFkB",
        "colab_type": "code",
        "colab": {
          "base_uri": "https://localhost:8080/",
          "height": 52
        },
        "outputId": "cfce5b4b-da2c-4849-fb03-ee44ae622a10"
      },
      "source": [
        "tweets[0].text"
      ],
      "execution_count": null,
      "outputs": [
        {
          "output_type": "execute_result",
          "data": {
            "application/vnd.google.colaboratory.intrinsic": {
              "type": "string"
            },
            "text/plain": [
              "'RT @Beingrealbeing: I am really happy to know that Kangana Ranaut is coming forward to support Sushant Singh Rajput as Sushant always belie…'"
            ]
          },
          "metadata": {
            "tags": []
          },
          "execution_count": 13
        }
      ]
    },
    {
      "cell_type": "code",
      "metadata": {
        "id": "8op2sB7NwPP9",
        "colab_type": "code",
        "colab": {
          "base_uri": "https://localhost:8080/",
          "height": 674
        },
        "outputId": "8cc47166-35b4-4b26-d52a-8f909d33d896"
      },
      "source": [
        "text = []\n",
        "for i in tweets:\n",
        "  print(i.text)\n",
        "  text.append(i.text)"
      ],
      "execution_count": null,
      "outputs": [
        {
          "output_type": "stream",
          "text": [
            "RT @Beingrealbeing: I am really happy to know that Kangana Ranaut is coming forward to support Sushant Singh Rajput as Sushant always belie…\n",
            "RT @OpIndia_com: After Kangana Ranaut accuses Mahesh Bhatt of abusive behaviour, entire Bhatt family posts cryptic messages on social media…\n",
            "@taapsee लेकिन आप sushant singh rajput ke liye bhi to awaj उठायी 🙏🙏🙏@taapsee\n",
            "RT @Beingrealbeing: These two deserve Love &amp; Respect only.\n",
            "\n",
            "Nation should come forward to get justice for Sushant Singh Rajput.\n",
            "\n",
            "#NationSta…\n",
            "RT @Apurvasrani: Actor Samir Soni LIED on the news that Sushant Singh Rajput's psychiatrist called him bipolar. Not one panelist refuted hi…\n",
            "RT @OpIndia_com: After Kangana Ranaut accuses Mahesh Bhatt of abusive behaviour, entire Bhatt family posts cryptic messages on social media…\n",
            "RT @Beingrealbeing: I am really happy to know that Kangana Ranaut is coming forward to support Sushant Singh Rajput as Sushant always belie…\n",
            "RT @JagdeepSingh254: ✝ Trend Activity Today ✝\n",
            "\n",
            "For Sushant Singh Rajput\n",
            "\n",
            "Time - Start Now\n",
            "Tagline - #WorldSeekingJusticeForSSR\n",
            "\n",
            "Use Single…\n",
            "RT @Joydas: Kangana: Alia made fun of fellow actor Sushant Singh Rajput in Karan Johar’s show on National TV. How would he have felt watchi…\n",
            "RT @SUSHANT05370534: Sushant Singh Rajput..\n",
            "\n",
            "Who teach us in 2nd last movie chichore ! Suicide is not a solution\n",
            "\n",
            "Who was telling if i will…\n",
            "RT @Vinay17450747: #WorldSeekingJusticeForSSR\n",
            "Whole World Knows It's Murder. But Why @narendramodi @AmitShah @PMOIndia no response from you…\n",
            "RT @Joydas: Kangana: Alia made fun of fellow actor Sushant Singh Rajput in Karan Johar’s show on National TV. How would he have felt watchi…\n",
            "RT @sauravjha8685: #WorldSeekingJusticeForSSR  Maharashtra HM: There is no need for a CBI probe in Case of Sushant Singh Rajput. \n",
            "\n",
            "Meanwhil…\n",
            "RT @Manvend32134444: The powerful lady. brave lady.\n",
            "first lady who stand for sushant singh rajput 💪❤️🙏#NationStandsWithKangana https://t.co…\n",
            "RT @ShiviKumari8: 173k tweets complete still trending at 2nd position in India !!\n",
            "\n",
            "#WorldSeekingJusticeForSSR\n",
            "\n",
            "Inspiration for many reasons…\n"
          ],
          "name": "stdout"
        }
      ]
    },
    {
      "cell_type": "code",
      "metadata": {
        "id": "8VCyHMiXwlSd",
        "colab_type": "code",
        "colab": {
          "base_uri": "https://localhost:8080/",
          "height": 499
        },
        "outputId": "789155fb-5ac3-4884-cff9-9dd6685afbe9"
      },
      "source": [
        "import pandas as pd\n",
        "df = pd.DataFrame()\n",
        "df['Tweets'] = text\n",
        "df"
      ],
      "execution_count": null,
      "outputs": [
        {
          "output_type": "execute_result",
          "data": {
            "text/html": [
              "<div>\n",
              "<style scoped>\n",
              "    .dataframe tbody tr th:only-of-type {\n",
              "        vertical-align: middle;\n",
              "    }\n",
              "\n",
              "    .dataframe tbody tr th {\n",
              "        vertical-align: top;\n",
              "    }\n",
              "\n",
              "    .dataframe thead th {\n",
              "        text-align: right;\n",
              "    }\n",
              "</style>\n",
              "<table border=\"1\" class=\"dataframe\">\n",
              "  <thead>\n",
              "    <tr style=\"text-align: right;\">\n",
              "      <th></th>\n",
              "      <th>Tweets</th>\n",
              "    </tr>\n",
              "  </thead>\n",
              "  <tbody>\n",
              "    <tr>\n",
              "      <th>0</th>\n",
              "      <td>RT @Beingrealbeing: I am really happy to know ...</td>\n",
              "    </tr>\n",
              "    <tr>\n",
              "      <th>1</th>\n",
              "      <td>RT @OpIndia_com: After Kangana Ranaut accuses ...</td>\n",
              "    </tr>\n",
              "    <tr>\n",
              "      <th>2</th>\n",
              "      <td>@taapsee लेकिन आप sushant singh rajput ke liye...</td>\n",
              "    </tr>\n",
              "    <tr>\n",
              "      <th>3</th>\n",
              "      <td>RT @Beingrealbeing: These two deserve Love &amp;am...</td>\n",
              "    </tr>\n",
              "    <tr>\n",
              "      <th>4</th>\n",
              "      <td>RT @Apurvasrani: Actor Samir Soni LIED on the ...</td>\n",
              "    </tr>\n",
              "    <tr>\n",
              "      <th>5</th>\n",
              "      <td>RT @OpIndia_com: After Kangana Ranaut accuses ...</td>\n",
              "    </tr>\n",
              "    <tr>\n",
              "      <th>6</th>\n",
              "      <td>RT @Beingrealbeing: I am really happy to know ...</td>\n",
              "    </tr>\n",
              "    <tr>\n",
              "      <th>7</th>\n",
              "      <td>RT @JagdeepSingh254: ✝ Trend Activity Today ✝\\...</td>\n",
              "    </tr>\n",
              "    <tr>\n",
              "      <th>8</th>\n",
              "      <td>RT @Joydas: Kangana: Alia made fun of fellow a...</td>\n",
              "    </tr>\n",
              "    <tr>\n",
              "      <th>9</th>\n",
              "      <td>RT @SUSHANT05370534: Sushant Singh Rajput..\\n\\...</td>\n",
              "    </tr>\n",
              "    <tr>\n",
              "      <th>10</th>\n",
              "      <td>RT @Vinay17450747: #WorldSeekingJusticeForSSR\\...</td>\n",
              "    </tr>\n",
              "    <tr>\n",
              "      <th>11</th>\n",
              "      <td>RT @Joydas: Kangana: Alia made fun of fellow a...</td>\n",
              "    </tr>\n",
              "    <tr>\n",
              "      <th>12</th>\n",
              "      <td>RT @sauravjha8685: #WorldSeekingJusticeForSSR ...</td>\n",
              "    </tr>\n",
              "    <tr>\n",
              "      <th>13</th>\n",
              "      <td>RT @Manvend32134444: The powerful lady. brave ...</td>\n",
              "    </tr>\n",
              "    <tr>\n",
              "      <th>14</th>\n",
              "      <td>RT @ShiviKumari8: 173k tweets complete still t...</td>\n",
              "    </tr>\n",
              "  </tbody>\n",
              "</table>\n",
              "</div>"
            ],
            "text/plain": [
              "                                               Tweets\n",
              "0   RT @Beingrealbeing: I am really happy to know ...\n",
              "1   RT @OpIndia_com: After Kangana Ranaut accuses ...\n",
              "2   @taapsee लेकिन आप sushant singh rajput ke liye...\n",
              "3   RT @Beingrealbeing: These two deserve Love &am...\n",
              "4   RT @Apurvasrani: Actor Samir Soni LIED on the ...\n",
              "5   RT @OpIndia_com: After Kangana Ranaut accuses ...\n",
              "6   RT @Beingrealbeing: I am really happy to know ...\n",
              "7   RT @JagdeepSingh254: ✝ Trend Activity Today ✝\\...\n",
              "8   RT @Joydas: Kangana: Alia made fun of fellow a...\n",
              "9   RT @SUSHANT05370534: Sushant Singh Rajput..\\n\\...\n",
              "10  RT @Vinay17450747: #WorldSeekingJusticeForSSR\\...\n",
              "11  RT @Joydas: Kangana: Alia made fun of fellow a...\n",
              "12  RT @sauravjha8685: #WorldSeekingJusticeForSSR ...\n",
              "13  RT @Manvend32134444: The powerful lady. brave ...\n",
              "14  RT @ShiviKumari8: 173k tweets complete still t..."
            ]
          },
          "metadata": {
            "tags": []
          },
          "execution_count": 16
        }
      ]
    },
    {
      "cell_type": "code",
      "metadata": {
        "id": "BrL-gSswyCLV",
        "colab_type": "code",
        "colab": {}
      },
      "source": [
        "from textblob import TextBlob"
      ],
      "execution_count": null,
      "outputs": []
    },
    {
      "cell_type": "code",
      "metadata": {
        "id": "SS8OywTJyQ3T",
        "colab_type": "code",
        "colab": {
          "base_uri": "https://localhost:8080/",
          "height": 34
        },
        "outputId": "0efef47f-7d2a-4825-9f9a-588100f84d3e"
      },
      "source": [
        "score = TextBlob(\"The movie was good\")\n",
        "score.sentiment"
      ],
      "execution_count": null,
      "outputs": [
        {
          "output_type": "execute_result",
          "data": {
            "text/plain": [
              "Sentiment(polarity=0.7, subjectivity=0.6000000000000001)"
            ]
          },
          "metadata": {
            "tags": []
          },
          "execution_count": 18
        }
      ]
    },
    {
      "cell_type": "code",
      "metadata": {
        "id": "VYrgi-syyYS0",
        "colab_type": "code",
        "colab": {
          "base_uri": "https://localhost:8080/",
          "height": 34
        },
        "outputId": "5b810c84-4075-4ff3-a25f-7557c902fb59"
      },
      "source": [
        "score = TextBlob(\"The movie was bad\")\n",
        "score.sentiment"
      ],
      "execution_count": null,
      "outputs": [
        {
          "output_type": "execute_result",
          "data": {
            "text/plain": [
              "Sentiment(polarity=-0.6999999999999998, subjectivity=0.6666666666666666)"
            ]
          },
          "metadata": {
            "tags": []
          },
          "execution_count": 19
        }
      ]
    },
    {
      "cell_type": "code",
      "metadata": {
        "id": "pH7BLa2yyj_G",
        "colab_type": "code",
        "colab": {
          "base_uri": "https://localhost:8080/",
          "height": 34
        },
        "outputId": "203c9302-565f-43a0-80d3-b0302d27cf1c"
      },
      "source": [
        "score.sentiment.polarity"
      ],
      "execution_count": null,
      "outputs": [
        {
          "output_type": "execute_result",
          "data": {
            "text/plain": [
              "-0.6999999999999998"
            ]
          },
          "metadata": {
            "tags": []
          },
          "execution_count": 20
        }
      ]
    },
    {
      "cell_type": "code",
      "metadata": {
        "id": "U1i91tVvy3pi",
        "colab_type": "code",
        "colab": {}
      },
      "source": [
        ""
      ],
      "execution_count": null,
      "outputs": []
    },
    {
      "cell_type": "code",
      "metadata": {
        "id": "yU_ly3SEy9ST",
        "colab_type": "code",
        "colab": {}
      },
      "source": [
        ""
      ],
      "execution_count": null,
      "outputs": []
    }
  ]
}