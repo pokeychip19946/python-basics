{
  "nbformat": 4,
  "nbformat_minor": 0,
  "metadata": {
    "colab": {
      "name": "Day 5_2 - Website Scraping - Amazon Product Reviews.ipynb",
      "provenance": [],
      "collapsed_sections": [],
      "include_colab_link": true
    },
    "kernelspec": {
      "name": "python3",
      "display_name": "Python 3"
    }
  },
  "cells": [
    {
      "cell_type": "markdown",
      "metadata": {
        "id": "view-in-github",
        "colab_type": "text"
      },
      "source": [
        "<a href=\"https://colab.research.google.com/github/pokeychip19946/python-basics/blob/master/Day_5_2_Website_Scraping_Amazon_Product_Reviews.ipynb\" target=\"_parent\"><img src=\"https://colab.research.google.com/assets/colab-badge.svg\" alt=\"Open In Colab\"/></a>"
      ]
    },
    {
      "cell_type": "code",
      "metadata": {
        "id": "GKwo5OyDNX9P",
        "colab_type": "code",
        "colab": {}
      },
      "source": [
        "from bs4 import BeautifulSoup\n",
        "import pandas as pd\n",
        "import requests"
      ],
      "execution_count": null,
      "outputs": []
    },
    {
      "cell_type": "code",
      "metadata": {
        "id": "tsSWo40JN4x7",
        "colab_type": "code",
        "colab": {}
      },
      "source": [
        "link = \"https://www.amazon.in/Samsung-Galaxy-Storage-Additional-Exchange/product-reviews/B07KXCK8S6/ref=cm_cr_dp_d_show_all_btm?ie=UTF8&reviewerType=all_reviews\""
      ],
      "execution_count": null,
      "outputs": []
    },
    {
      "cell_type": "code",
      "metadata": {
        "id": "qKb04jIVN7Jg",
        "colab_type": "code",
        "colab": {
          "base_uri": "https://localhost:8080/",
          "height": 34
        },
        "outputId": "088d29d7-6469-47b3-a724-9eb05ece29fc"
      },
      "source": [
        "page = requests.get(link)\n",
        "page"
      ],
      "execution_count": null,
      "outputs": [
        {
          "output_type": "execute_result",
          "data": {
            "text/plain": [
              "<Response [200]>"
            ]
          },
          "metadata": {
            "tags": []
          },
          "execution_count": 3
        }
      ]
    },
    {
      "cell_type": "code",
      "metadata": {
        "id": "_YyaDm3rOCee",
        "colab_type": "code",
        "colab": {}
      },
      "source": [
        "soup = BeautifulSoup(page.content,'html.parser')\n",
        "print(soup.prettify())"
      ],
      "execution_count": null,
      "outputs": []
    },
    {
      "cell_type": "code",
      "metadata": {
        "id": "x2ZxIMZJPPtU",
        "colab_type": "code",
        "colab": {}
      },
      "source": [
        "names = soup.select('span.a-profile-name')[2:]\n",
        "names"
      ],
      "execution_count": null,
      "outputs": []
    },
    {
      "cell_type": "code",
      "metadata": {
        "id": "7spHlbI7RUE1",
        "colab_type": "code",
        "colab": {}
      },
      "source": [
        "stars = soup.select('span.a-icon-alt')[3:]\n",
        "stars"
      ],
      "execution_count": null,
      "outputs": []
    },
    {
      "cell_type": "code",
      "metadata": {
        "id": "oCRBWu87S_CN",
        "colab_type": "code",
        "colab": {}
      },
      "source": [
        "title = soup.select('a.review-title span')\n",
        "title"
      ],
      "execution_count": null,
      "outputs": []
    },
    {
      "cell_type": "code",
      "metadata": {
        "id": "ihvO1oRpUPFW",
        "colab_type": "code",
        "colab": {}
      },
      "source": [
        "date = soup.select('span.review-date')[2:]\n",
        "date"
      ],
      "execution_count": null,
      "outputs": []
    },
    {
      "cell_type": "code",
      "metadata": {
        "id": "823sjb97U32b",
        "colab_type": "code",
        "colab": {}
      },
      "source": [
        "data = soup.select('span.review-text span')\n",
        "data"
      ],
      "execution_count": null,
      "outputs": []
    },
    {
      "cell_type": "code",
      "metadata": {
        "id": "UvtuncQVV3sN",
        "colab_type": "code",
        "colab": {}
      },
      "source": [
        "cust_name =[]\n",
        "rating = []\n",
        "review_date =[]\n",
        "review_title=[]\n",
        "review_text=[]\n",
        "for i in range(10):\n",
        "  cust_name.append(names[i].get_text())\n",
        "  rating.append(stars[i].get_text())\n",
        "  review_date.append(date[i].get_text().replace(\"Reviewed in India on \",\"\"))\n",
        "  review_title.append(title[i].get_text())\n",
        "  review_text.append(data[i].get_text())"
      ],
      "execution_count": null,
      "outputs": []
    },
    {
      "cell_type": "code",
      "metadata": {
        "id": "GLm6u-5eW0vp",
        "colab_type": "code",
        "colab": {}
      },
      "source": [
        "df = pd.DataFrame()\n",
        "df[\"Date\"] = review_date\n",
        "df[\"Customer Name\"] = cust_name\n",
        "df[\"Ratings\"] = rating\n",
        "df[\"Title\"] = review_title\n",
        "df[\"Review\"] = review_text"
      ],
      "execution_count": null,
      "outputs": []
    },
    {
      "cell_type": "code",
      "metadata": {
        "id": "qRRdeu5RW3Mp",
        "colab_type": "code",
        "colab": {}
      },
      "source": [
        "df"
      ],
      "execution_count": null,
      "outputs": []
    },
    {
      "cell_type": "code",
      "metadata": {
        "id": "knT9N3OoYKJV",
        "colab_type": "code",
        "colab": {}
      },
      "source": [
        "df.to_csv('reviews.csv')"
      ],
      "execution_count": null,
      "outputs": []
    },
    {
      "cell_type": "code",
      "metadata": {
        "id": "Cd4qlQdvYRIj",
        "colab_type": "code",
        "colab": {}
      },
      "source": [
        ""
      ],
      "execution_count": null,
      "outputs": []
    }
  ]
}