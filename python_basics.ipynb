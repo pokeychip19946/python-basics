{
  "nbformat": 4,
  "nbformat_minor": 0,
  "metadata": {
    "colab": {
      "name": "python_basics.ipynb",
      "provenance": [],
      "collapsed_sections": [],
      "include_colab_link": true
    },
    "kernelspec": {
      "name": "python3",
      "display_name": "Python 3"
    }
  },
  "cells": [
    {
      "cell_type": "markdown",
      "metadata": {
        "id": "view-in-github",
        "colab_type": "text"
      },
      "source": [
        "<a href=\"https://colab.research.google.com/github/pokeychip19946/python-basics/blob/master/python_basics.ipynb\" target=\"_parent\"><img src=\"https://colab.research.google.com/assets/colab-badge.svg\" alt=\"Open In Colab\"/></a>"
      ]
    },
    {
      "cell_type": "markdown",
      "metadata": {
        "id": "HEMXmMTjICpy",
        "colab_type": "text"
      },
      "source": [
        "VARIABLE\n"
      ]
    },
    {
      "cell_type": "code",
      "metadata": {
        "id": "k1duDGfbLvdT",
        "colab_type": "code",
        "colab": {}
      },
      "source": [
        "10\n",
        "a=b=c=50\n",
        "print (a)\n",
        "print (b)\n",
        "print(10)\n",
        "a,b,c=5,10.5,\"divyam\"\n",
        "print(a)\n",
        "print(b)\n",
        "print(c)"
      ],
      "execution_count": 0,
      "outputs": []
    },
    {
      "cell_type": "markdown",
      "metadata": {
        "id": "_uvuHh5qH8oe",
        "colab_type": "text"
      },
      "source": [
        "TUPLES"
      ]
    },
    {
      "cell_type": "code",
      "metadata": {
        "id": "idR8EqRCTrjn",
        "colab_type": "code",
        "colab": {}
      },
      "source": [
        "t=(\"divyam\",20,\"verma\",5.10)\n",
        "print(t)\n",
        "print(type(t))\n",
        "\n",
        "print(t[0:2])\n",
        "print(t[0:4:1])\n",
        "print(t[0:4:2])\n",
        "print(t[0:4:3])\n",
        "print(t[0:4:4])\n",
        "print(t[0:4:5])\n",
        "print(t+t)\n",
        "t1=(\"xyz\",30,478,\"abc\")\n",
        "print(t+t1)\n",
        "print(t1+t)\n",
        "print(t[::-1])\n",
        "print(t[0:4:-1])\n",
        "print(t[5::-1])\n",
        "print(t[3:0:-1])\n",
        "\n",
        "t2=t+t1\n",
        "print(t2)\n",
        "print(t*3)\n",
        "t=(1,2,3,4,5,6,7,8,9)\n",
        "print(t[8:3:-1])"
      ],
      "execution_count": 0,
      "outputs": []
    },
    {
      "cell_type": "markdown",
      "metadata": {
        "id": "ljlo4yaUSw-D",
        "colab_type": "text"
      },
      "source": [
        "STRINGS "
      ]
    },
    {
      "cell_type": "code",
      "metadata": {
        "id": "LEwlEcbySz9z",
        "colab_type": "code",
        "colab": {}
      },
      "source": [
        "s1=\"hello world \"\n",
        "s2=\"heydivyam!!\"\n",
        "print(s1[0:9:1])\n",
        "print(s1*2)\n",
        "print(s1+s2)\n",
        "print(s2[3:8])\n",
        "print(s2[3:8:1])\n",
        "print(s1[::2])\n",
        "print(s2[8:3:-1])\n",
        "str1=\"hello\\\n",
        "user\"\n",
        "str2=\"\"\" welcome \n",
        "divyam\n",
        "verma\"\"\"\n",
        "print(str1)\n",
        "print(str2)"
      ],
      "execution_count": 0,
      "outputs": []
    },
    {
      "cell_type": "markdown",
      "metadata": {
        "id": "ZNbdP_O54vyS",
        "colab_type": "text"
      },
      "source": [
        "DICTIONARY"
      ]
    },
    {
      "cell_type": "code",
      "metadata": {
        "id": "3nRzJuLN4zrm",
        "colab_type": "code",
        "colab": {}
      },
      "source": [
        "d = {1:'Jimmy', 2:'Alex', 3:'john', 4:'mike'};   \n",
        "print(\"1st name is \"+d[1]);  \n",
        "print(\"2nd name is \"+ d[4]);  \n",
        "print (d);  \n",
        "print (d.keys());  \n",
        "print (d.values());  "
      ],
      "execution_count": 0,
      "outputs": []
    },
    {
      "cell_type": "markdown",
      "metadata": {
        "id": "0fcfHYY8yopy",
        "colab_type": "text"
      },
      "source": [
        "OPERATORS"
      ]
    },
    {
      "cell_type": "code",
      "metadata": {
        "id": "pGPdWOhuyx1k",
        "colab_type": "code",
        "colab": {}
      },
      "source": [
        "#arthimatic\n",
        "a=5\n",
        "b=6\n",
        "print(a+b)\n",
        "print(a*b)\n",
        "print(a/b)\n",
        "print(a%b)\n",
        "print(a**b)\n",
        "print(a//b)\n",
        "#comparison\n",
        "print(a==b)\n",
        "print(a!=b)\n",
        "print(a<>b)\n",
        "print(a<b)\n",
        "print(a>b)\n",
        "print(a>=b)\n",
        "print(a<=b)\n",
        "print(a+=b)\n",
        "print(a*=b)\n",
        "print(a-=b)\n",
        "print(a/=b)\n",
        "print(a%=b)\n",
        "print(a**=b)\n",
        "#bitwise\n",
        "a = 60            \n",
        "b = 13            \n",
        "c = 0\n",
        "c = a & b        \n",
        "print(c)\n",
        "c = a | b         \n",
        "print(c)\n",
        "c = a ^ b        \n",
        "print(c)\n",
        "c = ~a\n",
        "print(c)\n",
        "c = a << 2       \n",
        "print(c)\n",
        "c = a >> 2    \n",
        "print(c)\n",
        "#membership\n",
        "a = 10\n",
        "b = 20\n",
        "list = [1, 2, 3, 4, 5 ]\n",
        "if ( a in list ):\n",
        "  print(\"Line 1 - a is available in the given list\")\n",
        "else:\n",
        "   print(\"Line 1 - a is not available in the given list\")\n",
        "if ( b not in list ):\n",
        "  print(\"Line 2 - b is not available in the given list\")\n",
        "else:\n",
        "  print (\"Line 2 - b is available in the given list\")\n",
        "a = 2\n",
        "if ( a in list ):\n",
        "   print(\"Line 3 - a is available in the given list\")\n",
        "else:\n",
        "   print(\"Line 3 - a is not available in the given list\")\n",
        "#indentify\n",
        "a = 20\n",
        "b = 20\n",
        "if ( a is b ):\n",
        "   print (\"Line 1 - a and b have same identity\")\n",
        "else:\n",
        "   print (\"Line 1 - a and b do not have same identity\")\n",
        "if ( id(a) == id(b) ):\n",
        "   print (\"Line 2 - a and b have same identity\")\n",
        "else:\n",
        "   print (\"Line 2 - a and b do not have same identity\")\n",
        "b = 30\n",
        "if ( a is b ):\n",
        "   print (\"Line 3 - a and b have same identity\")\n",
        "else:\n",
        "   print (\"Line 3 - a and b do not have same identity\")\n",
        "if ( a is not b ):\n",
        "   print (\"Line 4 - a and b do not have same identity\")\n",
        "else:\n",
        "   print (\"Line 4 - a and b have same identity\") \n",
        "#operatorprecedence\n",
        "a= 20\n",
        "b = 10\n",
        "c = 15\n",
        "d = 5\n",
        "e = 0\n",
        "e = (a + b) * c / d       #( 30 * 15 ) / 5\n",
        "print \"Value of (a + b) * c / d is \",  e\n",
        "e = ((a + b) * c) / d     # (30 * 15 ) / 5\n",
        "print \"Value of ((a + b) * c) / d is \",  e\n",
        "e = (a + b) * (c / d);    # (30) * (15/5)\n",
        "print \"Value of (a + b) * (c / d) is \",  e\n",
        "e = a + (b * c) / d;      #  20 + (150/5)\n",
        "print \"Value of a + (b * c) / d is \",  e\n"
      ],
      "execution_count": 0,
      "outputs": []
    },
    {
      "cell_type": "markdown",
      "metadata": {
        "id": "T3_Puh9ZetTs",
        "colab_type": "text"
      },
      "source": [
        "CONDITION\n"
      ]
    },
    {
      "cell_type": "code",
      "metadata": {
        "id": "PbPtiNIfew3Y",
        "colab_type": "code",
        "colab": {}
      },
      "source": [
        "num = int(input(\"enter the number?\"))  \n",
        "if num%2 == 0:  \n",
        "    print(\"Number is even\")  \n",
        "a = int(input(\"Enter a? \")) \n",
        "b = int(input(\"Enter b? \"))  \n",
        "c = int(input(\"Enter c? \"))  \n",
        "if a>b and a>c:  \n",
        "    print(\"a is largest\") \n",
        "if b>a and b>c:  \n",
        "    print(\"b is largest\")  \n",
        "if c>a and c>b:  \n",
        "    print(\"c is largest\")  \n",
        "age = int (input(\"Enter your age? \"))  \n",
        "if age>=18:  \n",
        "    print(\"You are eligible to vote !!\") \n",
        "else:  \n",
        "    print(\"Sorry! you have to wait !!\")\n",
        "number = int(input(\"Enter the number?\"))  \n",
        "if number==10:  \n",
        "    print(\"number is equals to 10\")  \n",
        "elif number==50:  \n",
        "    print(\"number is equal to 50\") \n",
        "elif number==100:  \n",
        "    print(\"number is equal to 100\")  \n",
        "else:  \n",
        "    print(\"number is not equal to 10, 50 or 100\")     "
      ],
      "execution_count": 0,
      "outputs": []
    },
    {
      "cell_type": "markdown",
      "metadata": {
        "id": "bktG7bIAhCGn",
        "colab_type": "text"
      },
      "source": [
        "FOR LOOP"
      ]
    },
    {
      "cell_type": "code",
      "metadata": {
        "id": "_-fUrqonhD23",
        "colab_type": "code",
        "colab": {}
      },
      "source": [
        "i=1\n",
        "num = int(input(\"Enter a number:\"))  \n",
        "for i in range(1,11):  \n",
        "    print(\"%d X %d = %d\"%(num,i,num*i)) \n",
        "n = int(input(\"Enter the number of rows you want to print?\"))  \n",
        "i,j=0,0  \n",
        "for i in range(0,n):  \n",
        "    print()  \n",
        "    for j in range(0,i+1):  \n",
        "        print(\"*\",end=\"\")       "
      ],
      "execution_count": 0,
      "outputs": []
    },
    {
      "cell_type": "markdown",
      "metadata": {
        "id": "CrsQu7Qphj8Z",
        "colab_type": "text"
      },
      "source": [
        "WHILE LOOP"
      ]
    },
    {
      "cell_type": "code",
      "metadata": {
        "id": "lVhdRgh6hmv6",
        "colab_type": "code",
        "colab": {}
      },
      "source": [
        "i=1 \n",
        "while i<=5:  \n",
        "    print(i)  \n",
        "    i=i+1;  \n",
        "    if(i==3):  \n",
        "        break;  \n",
        "else:print(\"The while loop exhausted\")"
      ],
      "execution_count": 0,
      "outputs": []
    },
    {
      "cell_type": "markdown",
      "metadata": {
        "id": "VEro-rvsk0Z7",
        "colab_type": "text"
      },
      "source": [
        "BREAK"
      ]
    },
    {
      "cell_type": "code",
      "metadata": {
        "id": "X9BYFAHPk4HZ",
        "colab_type": "code",
        "colab": {}
      },
      "source": [
        "i = 0;  \n",
        "while 1:  \n",
        "    print(i,\" \",end=\"\") \n",
        "    i=i+1\n",
        "    if i == 10:  \n",
        "        break  \n",
        "print(\"came out of while loop\")\n",
        "\n",
        "str = \"python\"  \n",
        "for i in str:  \n",
        "    if i == 'o':  \n",
        "        break  \n",
        "    print(i)"
      ],
      "execution_count": 0,
      "outputs": []
    },
    {
      "cell_type": "markdown",
      "metadata": {
        "id": "jz9VtYQCmfE-",
        "colab_type": "text"
      },
      "source": [
        "CONTINUE"
      ]
    },
    {
      "cell_type": "code",
      "metadata": {
        "id": "grrcJARqmhA3",
        "colab_type": "code",
        "colab": {}
      },
      "source": [
        "i = 0  \n",
        "while i!=10:  \n",
        "    print(\"%d\"%i)  \n",
        "    continue  \n",
        "    i=i+1  \n",
        "\n",
        "i=1 \n",
        "for i in range(1,11):  \n",
        "    if i==5:  \n",
        "        continue  \n",
        "    print(\"%d\"%i) "
      ],
      "execution_count": 0,
      "outputs": []
    }
  ]
}