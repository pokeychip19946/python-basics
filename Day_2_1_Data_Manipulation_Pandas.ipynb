{
  "nbformat": 4,
  "nbformat_minor": 0,
  "metadata": {
    "colab": {
      "name": "Day 2_1 - Data Manipulation - Pandas.ipynb",
      "provenance": [],
      "collapsed_sections": [],
      "include_colab_link": true
    },
    "kernelspec": {
      "name": "python3",
      "display_name": "Python 3"
    }
  },
  "cells": [
    {
      "cell_type": "markdown",
      "metadata": {
        "id": "view-in-github",
        "colab_type": "text"
      },
      "source": [
        "<a href=\"https://colab.research.google.com/github/pokeychip19946/python-basics/blob/master/Day_2_1_Data_Manipulation_Pandas.ipynb\" target=\"_parent\"><img src=\"https://colab.research.google.com/assets/colab-badge.svg\" alt=\"Open In Colab\"/></a>"
      ]
    },
    {
      "cell_type": "markdown",
      "metadata": {
        "id": "rzpYkexPUi2p",
        "colab_type": "text"
      },
      "source": [
        "1. Series\n",
        "*   Kind of an array that have index attached to it.\n",
        "*   It can hold data like list, array, tuples and dictionary.\n",
        "*   It provide a sequence to the data.\n",
        "\n",
        "2. DataFrame\n",
        "*   Tabular kind of a data.\n",
        "*   It has one or more than one series. Each series is consided as a single column of the data\n"
      ]
    },
    {
      "cell_type": "code",
      "metadata": {
        "id": "iypT4xGqVkwZ",
        "colab_type": "code",
        "colab": {}
      },
      "source": [
        "import pandas as pd"
      ],
      "execution_count": null,
      "outputs": []
    },
    {
      "cell_type": "code",
      "metadata": {
        "id": "4V3au9zeWCYp",
        "colab_type": "code",
        "colab": {}
      },
      "source": [
        "### Create a series\n",
        "marks = [100,90,30,45,80]\n",
        "s1 = pd.Series(marks)\n",
        "s1"
      ],
      "execution_count": null,
      "outputs": []
    },
    {
      "cell_type": "code",
      "metadata": {
        "id": "5WxvMUbjWzBp",
        "colab_type": "code",
        "colab": {}
      },
      "source": [
        "marks = [100,90,30,45,80]\n",
        "sub = [\"Maths\",\"Science\",\"Hindi\",\"English\",\"SST\"]\n",
        "s1 = pd.Series(marks,index=sub)\n",
        "s1"
      ],
      "execution_count": null,
      "outputs": []
    },
    {
      "cell_type": "code",
      "metadata": {
        "id": "nX6nu42lXMRF",
        "colab_type": "code",
        "colab": {}
      },
      "source": [
        "marks = (100,90,30,45,80)\n",
        "sub = (\"Maths\",\"Science\",\"Hindi\",\"English\",\"SST\")\n",
        "s1 = pd.Series(marks,index=sub)\n",
        "s1"
      ],
      "execution_count": null,
      "outputs": []
    },
    {
      "cell_type": "code",
      "metadata": {
        "id": "UubhylRnXVao",
        "colab_type": "code",
        "colab": {}
      },
      "source": [
        "dict = {\"Maths\":90,\"Science\":70,\"Hindi\":90,\"Urdu\":70,\"SST\":60,\"Drawing\":100}\n",
        "s2 = pd.Series(dict)\n",
        "s2"
      ],
      "execution_count": null,
      "outputs": []
    },
    {
      "cell_type": "code",
      "metadata": {
        "id": "BxAYOvPxYOAk",
        "colab_type": "code",
        "colab": {}
      },
      "source": [
        "s3 = s1 + s2\n",
        "s3"
      ],
      "execution_count": null,
      "outputs": []
    },
    {
      "cell_type": "code",
      "metadata": {
        "id": "FZ_PY-pVY5no",
        "colab_type": "code",
        "colab": {}
      },
      "source": [
        "s3.head()   ## print first 5 rows of data"
      ],
      "execution_count": null,
      "outputs": []
    },
    {
      "cell_type": "code",
      "metadata": {
        "id": "d9cE5dYhaa2n",
        "colab_type": "code",
        "colab": {}
      },
      "source": [
        "s3.head(3)   ## print first 3 rows of data"
      ],
      "execution_count": null,
      "outputs": []
    },
    {
      "cell_type": "code",
      "metadata": {
        "id": "B7VAiIceak7S",
        "colab_type": "code",
        "colab": {}
      },
      "source": [
        "s3.tail()   ## print last 5 rows of data"
      ],
      "execution_count": null,
      "outputs": []
    },
    {
      "cell_type": "code",
      "metadata": {
        "id": "KXw4-JspaqV-",
        "colab_type": "code",
        "colab": {}
      },
      "source": [
        "### Sorting of series\n",
        "s3.sort_values()    ## ascending order"
      ],
      "execution_count": null,
      "outputs": []
    },
    {
      "cell_type": "code",
      "metadata": {
        "id": "vJ4keFz6bPMC",
        "colab_type": "code",
        "colab": {}
      },
      "source": [
        "### Sorting of series\n",
        "s3.sort_values(ascending=False)    ## descending order"
      ],
      "execution_count": null,
      "outputs": []
    },
    {
      "cell_type": "code",
      "metadata": {
        "id": "o-rGt-dibV_E",
        "colab_type": "code",
        "colab": {
          "base_uri": "https://localhost:8080/",
          "height": 155
        },
        "outputId": "7d410334-676d-491c-a1bc-8c7c9dc9959f"
      },
      "source": [
        "### Sorting of series\n",
        "s3.sort_values(ascending=False,na_position=\"first\")    ## descending order"
      ],
      "execution_count": null,
      "outputs": [
        {
          "output_type": "execute_result",
          "data": {
            "text/plain": [
              "Drawing      NaN\n",
              "English      NaN\n",
              "Urdu         NaN\n",
              "Maths      190.0\n",
              "Science    160.0\n",
              "SST        140.0\n",
              "Hindi      120.0\n",
              "dtype: float64"
            ]
          },
          "metadata": {
            "tags": []
          },
          "execution_count": 14
        }
      ]
    },
    {
      "cell_type": "code",
      "metadata": {
        "id": "YKykDNoPbi-g",
        "colab_type": "code",
        "colab": {
          "base_uri": "https://localhost:8080/",
          "height": 34
        },
        "outputId": "3162fe2b-6236-450b-ac8a-35776235a872"
      },
      "source": [
        "### Picking the value\n",
        "s3[3]"
      ],
      "execution_count": null,
      "outputs": [
        {
          "output_type": "execute_result",
          "data": {
            "text/plain": [
              "190.0"
            ]
          },
          "metadata": {
            "tags": []
          },
          "execution_count": 17
        }
      ]
    },
    {
      "cell_type": "code",
      "metadata": {
        "id": "mBig4zA8cldu",
        "colab_type": "code",
        "colab": {
          "base_uri": "https://localhost:8080/",
          "height": 34
        },
        "outputId": "acfb307b-aa03-45e2-c852-46ffd6f3a5c5"
      },
      "source": [
        "s3['Maths']"
      ],
      "execution_count": null,
      "outputs": [
        {
          "output_type": "execute_result",
          "data": {
            "text/plain": [
              "190.0"
            ]
          },
          "metadata": {
            "tags": []
          },
          "execution_count": 18
        }
      ]
    },
    {
      "cell_type": "code",
      "metadata": {
        "id": "1wnj5HnecoJr",
        "colab_type": "code",
        "colab": {}
      },
      "source": [
        "s3.iloc[3]"
      ],
      "execution_count": null,
      "outputs": []
    },
    {
      "cell_type": "code",
      "metadata": {
        "id": "QjeWbTercuko",
        "colab_type": "code",
        "colab": {
          "base_uri": "https://localhost:8080/",
          "height": 34
        },
        "outputId": "c18d4879-7a6a-47bf-edcb-aa8261b4540b"
      },
      "source": [
        "s3.loc[\"Maths\"]"
      ],
      "execution_count": null,
      "outputs": [
        {
          "output_type": "execute_result",
          "data": {
            "text/plain": [
              "190.0"
            ]
          },
          "metadata": {
            "tags": []
          },
          "execution_count": 21
        }
      ]
    },
    {
      "cell_type": "code",
      "metadata": {
        "id": "QCLh5U40cx0R",
        "colab_type": "code",
        "colab": {
          "base_uri": "https://localhost:8080/",
          "height": 69
        },
        "outputId": "eeb83a28-55d2-4cf7-bc92-e8dae8afa425"
      },
      "source": [
        "s3[3:5]"
      ],
      "execution_count": null,
      "outputs": [
        {
          "output_type": "execute_result",
          "data": {
            "text/plain": [
              "Maths    190.0\n",
              "SST      140.0\n",
              "dtype: float64"
            ]
          },
          "metadata": {
            "tags": []
          },
          "execution_count": 23
        }
      ]
    },
    {
      "cell_type": "code",
      "metadata": {
        "id": "Gm84hvtfc7CQ",
        "colab_type": "code",
        "colab": {
          "base_uri": "https://localhost:8080/",
          "height": 69
        },
        "outputId": "4f5cc869-a99d-4df7-dc3b-3f454ea4c752"
      },
      "source": [
        "s3.iloc[3:5]"
      ],
      "execution_count": null,
      "outputs": [
        {
          "output_type": "execute_result",
          "data": {
            "text/plain": [
              "Maths    190.0\n",
              "SST      140.0\n",
              "dtype: float64"
            ]
          },
          "metadata": {
            "tags": []
          },
          "execution_count": 24
        }
      ]
    },
    {
      "cell_type": "code",
      "metadata": {
        "id": "rEH23YgmdF0Z",
        "colab_type": "code",
        "colab": {
          "base_uri": "https://localhost:8080/",
          "height": 155
        },
        "outputId": "01161b96-9799-4d04-c239-36588e8c0863"
      },
      "source": [
        "s3[:]"
      ],
      "execution_count": null,
      "outputs": [
        {
          "output_type": "execute_result",
          "data": {
            "text/plain": [
              "Drawing      NaN\n",
              "English      NaN\n",
              "Hindi      120.0\n",
              "Maths      190.0\n",
              "SST        140.0\n",
              "Science    160.0\n",
              "Urdu         NaN\n",
              "dtype: float64"
            ]
          },
          "metadata": {
            "tags": []
          },
          "execution_count": 25
        }
      ]
    },
    {
      "cell_type": "code",
      "metadata": {
        "id": "VED4GLBadJGz",
        "colab_type": "code",
        "colab": {}
      },
      "source": [
        "#### Creating DataFrame\n",
        "df = pd.DataFrame(s3)\n",
        "df"
      ],
      "execution_count": null,
      "outputs": []
    },
    {
      "cell_type": "code",
      "metadata": {
        "id": "9G2Cy_XAdiRK",
        "colab_type": "code",
        "colab": {
          "base_uri": "https://localhost:8080/",
          "height": 258
        },
        "outputId": "cabae762-386d-456a-8318-0bca93860fb3"
      },
      "source": [
        "df = df.reset_index()\n",
        "df"
      ],
      "execution_count": null,
      "outputs": [
        {
          "output_type": "execute_result",
          "data": {
            "text/html": [
              "<div>\n",
              "<style scoped>\n",
              "    .dataframe tbody tr th:only-of-type {\n",
              "        vertical-align: middle;\n",
              "    }\n",
              "\n",
              "    .dataframe tbody tr th {\n",
              "        vertical-align: top;\n",
              "    }\n",
              "\n",
              "    .dataframe thead th {\n",
              "        text-align: right;\n",
              "    }\n",
              "</style>\n",
              "<table border=\"1\" class=\"dataframe\">\n",
              "  <thead>\n",
              "    <tr style=\"text-align: right;\">\n",
              "      <th></th>\n",
              "      <th>index</th>\n",
              "      <th>0</th>\n",
              "    </tr>\n",
              "  </thead>\n",
              "  <tbody>\n",
              "    <tr>\n",
              "      <th>0</th>\n",
              "      <td>Drawing</td>\n",
              "      <td>NaN</td>\n",
              "    </tr>\n",
              "    <tr>\n",
              "      <th>1</th>\n",
              "      <td>English</td>\n",
              "      <td>NaN</td>\n",
              "    </tr>\n",
              "    <tr>\n",
              "      <th>2</th>\n",
              "      <td>Hindi</td>\n",
              "      <td>120.0</td>\n",
              "    </tr>\n",
              "    <tr>\n",
              "      <th>3</th>\n",
              "      <td>Maths</td>\n",
              "      <td>190.0</td>\n",
              "    </tr>\n",
              "    <tr>\n",
              "      <th>4</th>\n",
              "      <td>SST</td>\n",
              "      <td>140.0</td>\n",
              "    </tr>\n",
              "    <tr>\n",
              "      <th>5</th>\n",
              "      <td>Science</td>\n",
              "      <td>160.0</td>\n",
              "    </tr>\n",
              "    <tr>\n",
              "      <th>6</th>\n",
              "      <td>Urdu</td>\n",
              "      <td>NaN</td>\n",
              "    </tr>\n",
              "  </tbody>\n",
              "</table>\n",
              "</div>"
            ],
            "text/plain": [
              "     index      0\n",
              "0  Drawing    NaN\n",
              "1  English    NaN\n",
              "2    Hindi  120.0\n",
              "3    Maths  190.0\n",
              "4      SST  140.0\n",
              "5  Science  160.0\n",
              "6     Urdu    NaN"
            ]
          },
          "metadata": {
            "tags": []
          },
          "execution_count": 31
        }
      ]
    },
    {
      "cell_type": "code",
      "metadata": {
        "id": "-vxkZi82d--1",
        "colab_type": "code",
        "colab": {}
      },
      "source": [
        "# df = df.rename(columns={\"index\":\"Subjects\",0:\"Marks\"})\n",
        "df.rename(columns={\"index\":\"Subjects\",0:\"Marks\"},inplace=True)"
      ],
      "execution_count": null,
      "outputs": []
    },
    {
      "cell_type": "code",
      "metadata": {
        "id": "HMaT2VvmeyO2",
        "colab_type": "code",
        "colab": {}
      },
      "source": [
        "df['School Name'] = \"Delhi Public School - Gurgaon\"\n",
        "df"
      ],
      "execution_count": null,
      "outputs": []
    },
    {
      "cell_type": "code",
      "metadata": {
        "id": "qndwIqC-ez3I",
        "colab_type": "code",
        "colab": {
          "base_uri": "https://localhost:8080/",
          "height": 258
        },
        "outputId": "8b07754a-46cb-44c2-f8c3-a0aeb1dfaef9"
      },
      "source": [
        "sub = [\"Mr.A\",\"Mr.B\",\"Mrs.C\",\"Mrs.D\",\"Miss E\",\"Miss F\",\"Mr.X\"]\n",
        "df[\"Teacher's Name\"] = sub\n",
        "df"
      ],
      "execution_count": null,
      "outputs": [
        {
          "output_type": "execute_result",
          "data": {
            "text/html": [
              "<div>\n",
              "<style scoped>\n",
              "    .dataframe tbody tr th:only-of-type {\n",
              "        vertical-align: middle;\n",
              "    }\n",
              "\n",
              "    .dataframe tbody tr th {\n",
              "        vertical-align: top;\n",
              "    }\n",
              "\n",
              "    .dataframe thead th {\n",
              "        text-align: right;\n",
              "    }\n",
              "</style>\n",
              "<table border=\"1\" class=\"dataframe\">\n",
              "  <thead>\n",
              "    <tr style=\"text-align: right;\">\n",
              "      <th></th>\n",
              "      <th>Subjects</th>\n",
              "      <th>Marks</th>\n",
              "      <th>School Name</th>\n",
              "      <th>Teacher's Name</th>\n",
              "    </tr>\n",
              "  </thead>\n",
              "  <tbody>\n",
              "    <tr>\n",
              "      <th>0</th>\n",
              "      <td>Drawing</td>\n",
              "      <td>NaN</td>\n",
              "      <td>Delhi Public School - Gurgaon</td>\n",
              "      <td>Mr.A</td>\n",
              "    </tr>\n",
              "    <tr>\n",
              "      <th>1</th>\n",
              "      <td>English</td>\n",
              "      <td>NaN</td>\n",
              "      <td>Delhi Public School - Gurgaon</td>\n",
              "      <td>Mr.B</td>\n",
              "    </tr>\n",
              "    <tr>\n",
              "      <th>2</th>\n",
              "      <td>Hindi</td>\n",
              "      <td>120.0</td>\n",
              "      <td>Delhi Public School - Gurgaon</td>\n",
              "      <td>Mrs.C</td>\n",
              "    </tr>\n",
              "    <tr>\n",
              "      <th>3</th>\n",
              "      <td>Maths</td>\n",
              "      <td>190.0</td>\n",
              "      <td>Delhi Public School - Gurgaon</td>\n",
              "      <td>Mrs.D</td>\n",
              "    </tr>\n",
              "    <tr>\n",
              "      <th>4</th>\n",
              "      <td>SST</td>\n",
              "      <td>140.0</td>\n",
              "      <td>Delhi Public School - Gurgaon</td>\n",
              "      <td>Miss E</td>\n",
              "    </tr>\n",
              "    <tr>\n",
              "      <th>5</th>\n",
              "      <td>Science</td>\n",
              "      <td>160.0</td>\n",
              "      <td>Delhi Public School - Gurgaon</td>\n",
              "      <td>Miss F</td>\n",
              "    </tr>\n",
              "    <tr>\n",
              "      <th>6</th>\n",
              "      <td>Urdu</td>\n",
              "      <td>NaN</td>\n",
              "      <td>Delhi Public School - Gurgaon</td>\n",
              "      <td>Mr.X</td>\n",
              "    </tr>\n",
              "  </tbody>\n",
              "</table>\n",
              "</div>"
            ],
            "text/plain": [
              "  Subjects  Marks                    School Name Teacher's Name\n",
              "0  Drawing    NaN  Delhi Public School - Gurgaon           Mr.A\n",
              "1  English    NaN  Delhi Public School - Gurgaon           Mr.B\n",
              "2    Hindi  120.0  Delhi Public School - Gurgaon          Mrs.C\n",
              "3    Maths  190.0  Delhi Public School - Gurgaon          Mrs.D\n",
              "4      SST  140.0  Delhi Public School - Gurgaon         Miss E\n",
              "5  Science  160.0  Delhi Public School - Gurgaon         Miss F\n",
              "6     Urdu    NaN  Delhi Public School - Gurgaon           Mr.X"
            ]
          },
          "metadata": {
            "tags": []
          },
          "execution_count": 38
        }
      ]
    },
    {
      "cell_type": "code",
      "metadata": {
        "id": "7FP_pFuugE6q",
        "colab_type": "code",
        "colab": {}
      },
      "source": [
        "### to remove nan values\n",
        "## df.dropna()"
      ],
      "execution_count": null,
      "outputs": []
    },
    {
      "cell_type": "code",
      "metadata": {
        "id": "Nwf1Ho1zgZWI",
        "colab_type": "code",
        "colab": {}
      },
      "source": [
        "df[['Marks']]"
      ],
      "execution_count": null,
      "outputs": []
    },
    {
      "cell_type": "code",
      "metadata": {
        "id": "oPd2XRwhhGJt",
        "colab_type": "code",
        "colab": {}
      },
      "source": [
        "df[['Marks',\"School Name\"]]"
      ],
      "execution_count": null,
      "outputs": []
    },
    {
      "cell_type": "code",
      "metadata": {
        "id": "TlWkYZNMhbE5",
        "colab_type": "code",
        "colab": {
          "base_uri": "https://localhost:8080/",
          "height": 34
        },
        "outputId": "45b45509-6795-4bdd-c39f-3a84670cf1c6"
      },
      "source": [
        "mean_marks = df['Marks'].mean()\n",
        "mean_marks"
      ],
      "execution_count": null,
      "outputs": [
        {
          "output_type": "execute_result",
          "data": {
            "text/plain": [
              "152.5"
            ]
          },
          "metadata": {
            "tags": []
          },
          "execution_count": 46
        }
      ]
    },
    {
      "cell_type": "code",
      "metadata": {
        "id": "vADVSJIbhrzw",
        "colab_type": "code",
        "colab": {
          "base_uri": "https://localhost:8080/",
          "height": 258
        },
        "outputId": "5bea8c49-5c39-44ac-9955-e3673f5c2bc1"
      },
      "source": [
        "df['Marks'].fillna(mean_marks,inplace=True)\n",
        "df"
      ],
      "execution_count": null,
      "outputs": [
        {
          "output_type": "execute_result",
          "data": {
            "text/html": [
              "<div>\n",
              "<style scoped>\n",
              "    .dataframe tbody tr th:only-of-type {\n",
              "        vertical-align: middle;\n",
              "    }\n",
              "\n",
              "    .dataframe tbody tr th {\n",
              "        vertical-align: top;\n",
              "    }\n",
              "\n",
              "    .dataframe thead th {\n",
              "        text-align: right;\n",
              "    }\n",
              "</style>\n",
              "<table border=\"1\" class=\"dataframe\">\n",
              "  <thead>\n",
              "    <tr style=\"text-align: right;\">\n",
              "      <th></th>\n",
              "      <th>Subjects</th>\n",
              "      <th>Marks</th>\n",
              "      <th>School Name</th>\n",
              "      <th>Teacher's Name</th>\n",
              "    </tr>\n",
              "  </thead>\n",
              "  <tbody>\n",
              "    <tr>\n",
              "      <th>0</th>\n",
              "      <td>Drawing</td>\n",
              "      <td>152.5</td>\n",
              "      <td>Delhi Public School - Gurgaon</td>\n",
              "      <td>Mr.A</td>\n",
              "    </tr>\n",
              "    <tr>\n",
              "      <th>1</th>\n",
              "      <td>English</td>\n",
              "      <td>152.5</td>\n",
              "      <td>Delhi Public School - Gurgaon</td>\n",
              "      <td>Mr.B</td>\n",
              "    </tr>\n",
              "    <tr>\n",
              "      <th>2</th>\n",
              "      <td>Hindi</td>\n",
              "      <td>120.0</td>\n",
              "      <td>Delhi Public School - Gurgaon</td>\n",
              "      <td>Mrs.C</td>\n",
              "    </tr>\n",
              "    <tr>\n",
              "      <th>3</th>\n",
              "      <td>Maths</td>\n",
              "      <td>190.0</td>\n",
              "      <td>Delhi Public School - Gurgaon</td>\n",
              "      <td>Mrs.D</td>\n",
              "    </tr>\n",
              "    <tr>\n",
              "      <th>4</th>\n",
              "      <td>SST</td>\n",
              "      <td>140.0</td>\n",
              "      <td>Delhi Public School - Gurgaon</td>\n",
              "      <td>Miss E</td>\n",
              "    </tr>\n",
              "    <tr>\n",
              "      <th>5</th>\n",
              "      <td>Science</td>\n",
              "      <td>160.0</td>\n",
              "      <td>Delhi Public School - Gurgaon</td>\n",
              "      <td>Miss F</td>\n",
              "    </tr>\n",
              "    <tr>\n",
              "      <th>6</th>\n",
              "      <td>Urdu</td>\n",
              "      <td>152.5</td>\n",
              "      <td>Delhi Public School - Gurgaon</td>\n",
              "      <td>Mr.X</td>\n",
              "    </tr>\n",
              "  </tbody>\n",
              "</table>\n",
              "</div>"
            ],
            "text/plain": [
              "  Subjects  Marks                    School Name Teacher's Name\n",
              "0  Drawing  152.5  Delhi Public School - Gurgaon           Mr.A\n",
              "1  English  152.5  Delhi Public School - Gurgaon           Mr.B\n",
              "2    Hindi  120.0  Delhi Public School - Gurgaon          Mrs.C\n",
              "3    Maths  190.0  Delhi Public School - Gurgaon          Mrs.D\n",
              "4      SST  140.0  Delhi Public School - Gurgaon         Miss E\n",
              "5  Science  160.0  Delhi Public School - Gurgaon         Miss F\n",
              "6     Urdu  152.5  Delhi Public School - Gurgaon           Mr.X"
            ]
          },
          "metadata": {
            "tags": []
          },
          "execution_count": 48
        }
      ]
    },
    {
      "cell_type": "code",
      "metadata": {
        "id": "w0jPvqKoi_rF",
        "colab_type": "code",
        "colab": {
          "base_uri": "https://localhost:8080/",
          "height": 34
        },
        "outputId": "2c97a199-613f-4ebc-bc0d-d0239d791dec"
      },
      "source": [
        "df.iloc[0][\"Marks\"]"
      ],
      "execution_count": null,
      "outputs": [
        {
          "output_type": "execute_result",
          "data": {
            "text/plain": [
              "152.5"
            ]
          },
          "metadata": {
            "tags": []
          },
          "execution_count": 56
        }
      ]
    },
    {
      "cell_type": "code",
      "metadata": {
        "id": "MgLKgn-AhygT",
        "colab_type": "code",
        "colab": {}
      },
      "source": [
        "grade = []\n",
        "for i in range(len(df)):\n",
        "  marks = df.iloc[i][\"Marks\"]\n",
        "  if marks>=150:\n",
        "    grade.append(\"A\")\n",
        "  else:\n",
        "    grade.append(\"B\")"
      ],
      "execution_count": null,
      "outputs": []
    },
    {
      "cell_type": "code",
      "metadata": {
        "id": "qWlvaZUzkEmw",
        "colab_type": "code",
        "colab": {}
      },
      "source": [
        "df['Grade'] = grade\n",
        "df"
      ],
      "execution_count": null,
      "outputs": []
    },
    {
      "cell_type": "code",
      "metadata": {
        "id": "nF64yLalkHcz",
        "colab_type": "code",
        "colab": {}
      },
      "source": [
        "### Sort Data By Marks\n",
        "df.sort_values(\"Marks\",ascending=False,inplace=True)\n",
        "df"
      ],
      "execution_count": null,
      "outputs": []
    },
    {
      "cell_type": "code",
      "metadata": {
        "id": "VsBY_YHZoV3Y",
        "colab_type": "code",
        "colab": {}
      },
      "source": [
        "df.reset_index(inplace=True)"
      ],
      "execution_count": null,
      "outputs": []
    },
    {
      "cell_type": "code",
      "metadata": {
        "id": "vQSckj7SovQr",
        "colab_type": "code",
        "colab": {
          "base_uri": "https://localhost:8080/",
          "height": 258
        },
        "outputId": "afc2f8a8-f601-4a3d-bcd8-3e23be22273e"
      },
      "source": [
        "df"
      ],
      "execution_count": null,
      "outputs": [
        {
          "output_type": "execute_result",
          "data": {
            "text/html": [
              "<div>\n",
              "<style scoped>\n",
              "    .dataframe tbody tr th:only-of-type {\n",
              "        vertical-align: middle;\n",
              "    }\n",
              "\n",
              "    .dataframe tbody tr th {\n",
              "        vertical-align: top;\n",
              "    }\n",
              "\n",
              "    .dataframe thead th {\n",
              "        text-align: right;\n",
              "    }\n",
              "</style>\n",
              "<table border=\"1\" class=\"dataframe\">\n",
              "  <thead>\n",
              "    <tr style=\"text-align: right;\">\n",
              "      <th></th>\n",
              "      <th>index</th>\n",
              "      <th>Subjects</th>\n",
              "      <th>Marks</th>\n",
              "      <th>School Name</th>\n",
              "      <th>Teacher's Name</th>\n",
              "      <th>Grade</th>\n",
              "    </tr>\n",
              "  </thead>\n",
              "  <tbody>\n",
              "    <tr>\n",
              "      <th>0</th>\n",
              "      <td>3</td>\n",
              "      <td>Maths</td>\n",
              "      <td>190.0</td>\n",
              "      <td>Delhi Public School - Gurgaon</td>\n",
              "      <td>Mrs.D</td>\n",
              "      <td>A</td>\n",
              "    </tr>\n",
              "    <tr>\n",
              "      <th>1</th>\n",
              "      <td>5</td>\n",
              "      <td>Science</td>\n",
              "      <td>160.0</td>\n",
              "      <td>Delhi Public School - Gurgaon</td>\n",
              "      <td>Miss F</td>\n",
              "      <td>A</td>\n",
              "    </tr>\n",
              "    <tr>\n",
              "      <th>2</th>\n",
              "      <td>0</td>\n",
              "      <td>Drawing</td>\n",
              "      <td>152.5</td>\n",
              "      <td>Delhi Public School - Gurgaon</td>\n",
              "      <td>Mr.A</td>\n",
              "      <td>A</td>\n",
              "    </tr>\n",
              "    <tr>\n",
              "      <th>3</th>\n",
              "      <td>1</td>\n",
              "      <td>English</td>\n",
              "      <td>152.5</td>\n",
              "      <td>Delhi Public School - Gurgaon</td>\n",
              "      <td>Mr.B</td>\n",
              "      <td>A</td>\n",
              "    </tr>\n",
              "    <tr>\n",
              "      <th>4</th>\n",
              "      <td>6</td>\n",
              "      <td>Urdu</td>\n",
              "      <td>152.5</td>\n",
              "      <td>Delhi Public School - Gurgaon</td>\n",
              "      <td>Mr.X</td>\n",
              "      <td>A</td>\n",
              "    </tr>\n",
              "    <tr>\n",
              "      <th>5</th>\n",
              "      <td>4</td>\n",
              "      <td>SST</td>\n",
              "      <td>140.0</td>\n",
              "      <td>Delhi Public School - Gurgaon</td>\n",
              "      <td>Miss E</td>\n",
              "      <td>B</td>\n",
              "    </tr>\n",
              "    <tr>\n",
              "      <th>6</th>\n",
              "      <td>2</td>\n",
              "      <td>Hindi</td>\n",
              "      <td>120.0</td>\n",
              "      <td>Delhi Public School - Gurgaon</td>\n",
              "      <td>Mrs.C</td>\n",
              "      <td>B</td>\n",
              "    </tr>\n",
              "  </tbody>\n",
              "</table>\n",
              "</div>"
            ],
            "text/plain": [
              "   index Subjects  Marks                    School Name Teacher's Name Grade\n",
              "0      3    Maths  190.0  Delhi Public School - Gurgaon          Mrs.D     A\n",
              "1      5  Science  160.0  Delhi Public School - Gurgaon         Miss F     A\n",
              "2      0  Drawing  152.5  Delhi Public School - Gurgaon           Mr.A     A\n",
              "3      1  English  152.5  Delhi Public School - Gurgaon           Mr.B     A\n",
              "4      6     Urdu  152.5  Delhi Public School - Gurgaon           Mr.X     A\n",
              "5      4      SST  140.0  Delhi Public School - Gurgaon         Miss E     B\n",
              "6      2    Hindi  120.0  Delhi Public School - Gurgaon          Mrs.C     B"
            ]
          },
          "metadata": {
            "tags": []
          },
          "execution_count": 62
        }
      ]
    },
    {
      "cell_type": "code",
      "metadata": {
        "id": "GFfE8yC3ov7U",
        "colab_type": "code",
        "colab": {}
      },
      "source": [
        "#### Delete the column\n",
        "df.drop([\"index\"],axis=1,inplace=True)\n",
        "df"
      ],
      "execution_count": null,
      "outputs": []
    },
    {
      "cell_type": "code",
      "metadata": {
        "id": "fBkP8EnDpbk3",
        "colab_type": "code",
        "colab": {
          "base_uri": "https://localhost:8080/",
          "height": 228
        },
        "outputId": "112ff99d-e471-48da-9881-de1f2f5dc65d"
      },
      "source": [
        "#### Delete the row\n",
        "df.drop([6],axis=0,inplace=True)\n",
        "df"
      ],
      "execution_count": null,
      "outputs": [
        {
          "output_type": "execute_result",
          "data": {
            "text/html": [
              "<div>\n",
              "<style scoped>\n",
              "    .dataframe tbody tr th:only-of-type {\n",
              "        vertical-align: middle;\n",
              "    }\n",
              "\n",
              "    .dataframe tbody tr th {\n",
              "        vertical-align: top;\n",
              "    }\n",
              "\n",
              "    .dataframe thead th {\n",
              "        text-align: right;\n",
              "    }\n",
              "</style>\n",
              "<table border=\"1\" class=\"dataframe\">\n",
              "  <thead>\n",
              "    <tr style=\"text-align: right;\">\n",
              "      <th></th>\n",
              "      <th>Subjects</th>\n",
              "      <th>Marks</th>\n",
              "      <th>School Name</th>\n",
              "      <th>Teacher's Name</th>\n",
              "      <th>Grade</th>\n",
              "    </tr>\n",
              "  </thead>\n",
              "  <tbody>\n",
              "    <tr>\n",
              "      <th>0</th>\n",
              "      <td>Maths</td>\n",
              "      <td>190.0</td>\n",
              "      <td>Delhi Public School - Gurgaon</td>\n",
              "      <td>Mrs.D</td>\n",
              "      <td>A</td>\n",
              "    </tr>\n",
              "    <tr>\n",
              "      <th>1</th>\n",
              "      <td>Science</td>\n",
              "      <td>160.0</td>\n",
              "      <td>Delhi Public School - Gurgaon</td>\n",
              "      <td>Miss F</td>\n",
              "      <td>A</td>\n",
              "    </tr>\n",
              "    <tr>\n",
              "      <th>2</th>\n",
              "      <td>Drawing</td>\n",
              "      <td>152.5</td>\n",
              "      <td>Delhi Public School - Gurgaon</td>\n",
              "      <td>Mr.A</td>\n",
              "      <td>A</td>\n",
              "    </tr>\n",
              "    <tr>\n",
              "      <th>3</th>\n",
              "      <td>English</td>\n",
              "      <td>152.5</td>\n",
              "      <td>Delhi Public School - Gurgaon</td>\n",
              "      <td>Mr.B</td>\n",
              "      <td>A</td>\n",
              "    </tr>\n",
              "    <tr>\n",
              "      <th>4</th>\n",
              "      <td>Urdu</td>\n",
              "      <td>152.5</td>\n",
              "      <td>Delhi Public School - Gurgaon</td>\n",
              "      <td>Mr.X</td>\n",
              "      <td>A</td>\n",
              "    </tr>\n",
              "    <tr>\n",
              "      <th>5</th>\n",
              "      <td>SST</td>\n",
              "      <td>140.0</td>\n",
              "      <td>Delhi Public School - Gurgaon</td>\n",
              "      <td>Miss E</td>\n",
              "      <td>B</td>\n",
              "    </tr>\n",
              "  </tbody>\n",
              "</table>\n",
              "</div>"
            ],
            "text/plain": [
              "  Subjects  Marks                    School Name Teacher's Name Grade\n",
              "0    Maths  190.0  Delhi Public School - Gurgaon          Mrs.D     A\n",
              "1  Science  160.0  Delhi Public School - Gurgaon         Miss F     A\n",
              "2  Drawing  152.5  Delhi Public School - Gurgaon           Mr.A     A\n",
              "3  English  152.5  Delhi Public School - Gurgaon           Mr.B     A\n",
              "4     Urdu  152.5  Delhi Public School - Gurgaon           Mr.X     A\n",
              "5      SST  140.0  Delhi Public School - Gurgaon         Miss E     B"
            ]
          },
          "metadata": {
            "tags": []
          },
          "execution_count": 65
        }
      ]
    },
    {
      "cell_type": "code",
      "metadata": {
        "id": "1h2EHwdZpgrF",
        "colab_type": "code",
        "colab": {
          "base_uri": "https://localhost:8080/",
          "height": 228
        },
        "outputId": "9360a5b3-b746-496a-d279-e1ba846f2a36"
      },
      "source": [
        "## change the sequence of the column\n",
        "cols = [\"Subjects\",\"Marks\",\"Grade\",\"Teacher's Name\",\"School Name\"]\n",
        "df = df.reindex(columns=cols)\n",
        "df"
      ],
      "execution_count": null,
      "outputs": [
        {
          "output_type": "execute_result",
          "data": {
            "text/html": [
              "<div>\n",
              "<style scoped>\n",
              "    .dataframe tbody tr th:only-of-type {\n",
              "        vertical-align: middle;\n",
              "    }\n",
              "\n",
              "    .dataframe tbody tr th {\n",
              "        vertical-align: top;\n",
              "    }\n",
              "\n",
              "    .dataframe thead th {\n",
              "        text-align: right;\n",
              "    }\n",
              "</style>\n",
              "<table border=\"1\" class=\"dataframe\">\n",
              "  <thead>\n",
              "    <tr style=\"text-align: right;\">\n",
              "      <th></th>\n",
              "      <th>Subjects</th>\n",
              "      <th>Marks</th>\n",
              "      <th>Grade</th>\n",
              "      <th>Teacher's Name</th>\n",
              "      <th>School Name</th>\n",
              "    </tr>\n",
              "  </thead>\n",
              "  <tbody>\n",
              "    <tr>\n",
              "      <th>0</th>\n",
              "      <td>Maths</td>\n",
              "      <td>190.0</td>\n",
              "      <td>A</td>\n",
              "      <td>Mrs.D</td>\n",
              "      <td>Delhi Public School - Gurgaon</td>\n",
              "    </tr>\n",
              "    <tr>\n",
              "      <th>1</th>\n",
              "      <td>Science</td>\n",
              "      <td>160.0</td>\n",
              "      <td>A</td>\n",
              "      <td>Miss F</td>\n",
              "      <td>Delhi Public School - Gurgaon</td>\n",
              "    </tr>\n",
              "    <tr>\n",
              "      <th>2</th>\n",
              "      <td>Drawing</td>\n",
              "      <td>152.5</td>\n",
              "      <td>A</td>\n",
              "      <td>Mr.A</td>\n",
              "      <td>Delhi Public School - Gurgaon</td>\n",
              "    </tr>\n",
              "    <tr>\n",
              "      <th>3</th>\n",
              "      <td>English</td>\n",
              "      <td>152.5</td>\n",
              "      <td>A</td>\n",
              "      <td>Mr.B</td>\n",
              "      <td>Delhi Public School - Gurgaon</td>\n",
              "    </tr>\n",
              "    <tr>\n",
              "      <th>4</th>\n",
              "      <td>Urdu</td>\n",
              "      <td>152.5</td>\n",
              "      <td>A</td>\n",
              "      <td>Mr.X</td>\n",
              "      <td>Delhi Public School - Gurgaon</td>\n",
              "    </tr>\n",
              "    <tr>\n",
              "      <th>5</th>\n",
              "      <td>SST</td>\n",
              "      <td>140.0</td>\n",
              "      <td>B</td>\n",
              "      <td>Miss E</td>\n",
              "      <td>Delhi Public School - Gurgaon</td>\n",
              "    </tr>\n",
              "  </tbody>\n",
              "</table>\n",
              "</div>"
            ],
            "text/plain": [
              "  Subjects  Marks Grade Teacher's Name                    School Name\n",
              "0    Maths  190.0     A          Mrs.D  Delhi Public School - Gurgaon\n",
              "1  Science  160.0     A         Miss F  Delhi Public School - Gurgaon\n",
              "2  Drawing  152.5     A           Mr.A  Delhi Public School - Gurgaon\n",
              "3  English  152.5     A           Mr.B  Delhi Public School - Gurgaon\n",
              "4     Urdu  152.5     A           Mr.X  Delhi Public School - Gurgaon\n",
              "5      SST  140.0     B         Miss E  Delhi Public School - Gurgaon"
            ]
          },
          "metadata": {
            "tags": []
          },
          "execution_count": 66
        }
      ]
    },
    {
      "cell_type": "code",
      "metadata": {
        "id": "4BCvb9ngqyii",
        "colab_type": "code",
        "colab": {}
      },
      "source": [
        "df[df['Grade']==\"A\"]"
      ],
      "execution_count": null,
      "outputs": []
    },
    {
      "cell_type": "code",
      "metadata": {
        "id": "82tbrza-rUBP",
        "colab_type": "code",
        "colab": {
          "base_uri": "https://localhost:8080/",
          "height": 198
        },
        "outputId": "adc3d3fa-9baa-4dd2-c7d4-60b6c3ea0fab"
      },
      "source": [
        "df[df['Marks']>150]"
      ],
      "execution_count": null,
      "outputs": [
        {
          "output_type": "execute_result",
          "data": {
            "text/html": [
              "<div>\n",
              "<style scoped>\n",
              "    .dataframe tbody tr th:only-of-type {\n",
              "        vertical-align: middle;\n",
              "    }\n",
              "\n",
              "    .dataframe tbody tr th {\n",
              "        vertical-align: top;\n",
              "    }\n",
              "\n",
              "    .dataframe thead th {\n",
              "        text-align: right;\n",
              "    }\n",
              "</style>\n",
              "<table border=\"1\" class=\"dataframe\">\n",
              "  <thead>\n",
              "    <tr style=\"text-align: right;\">\n",
              "      <th></th>\n",
              "      <th>Subjects</th>\n",
              "      <th>Marks</th>\n",
              "      <th>Grade</th>\n",
              "      <th>Teacher's Name</th>\n",
              "      <th>School Name</th>\n",
              "    </tr>\n",
              "  </thead>\n",
              "  <tbody>\n",
              "    <tr>\n",
              "      <th>0</th>\n",
              "      <td>Maths</td>\n",
              "      <td>190.0</td>\n",
              "      <td>A</td>\n",
              "      <td>Mrs.D</td>\n",
              "      <td>Delhi Public School - Gurgaon</td>\n",
              "    </tr>\n",
              "    <tr>\n",
              "      <th>1</th>\n",
              "      <td>Science</td>\n",
              "      <td>160.0</td>\n",
              "      <td>A</td>\n",
              "      <td>Miss F</td>\n",
              "      <td>Delhi Public School - Gurgaon</td>\n",
              "    </tr>\n",
              "    <tr>\n",
              "      <th>2</th>\n",
              "      <td>Drawing</td>\n",
              "      <td>152.5</td>\n",
              "      <td>A</td>\n",
              "      <td>Mr.A</td>\n",
              "      <td>Delhi Public School - Gurgaon</td>\n",
              "    </tr>\n",
              "    <tr>\n",
              "      <th>3</th>\n",
              "      <td>English</td>\n",
              "      <td>152.5</td>\n",
              "      <td>A</td>\n",
              "      <td>Mr.B</td>\n",
              "      <td>Delhi Public School - Gurgaon</td>\n",
              "    </tr>\n",
              "    <tr>\n",
              "      <th>4</th>\n",
              "      <td>Urdu</td>\n",
              "      <td>152.5</td>\n",
              "      <td>A</td>\n",
              "      <td>Mr.X</td>\n",
              "      <td>Delhi Public School - Gurgaon</td>\n",
              "    </tr>\n",
              "  </tbody>\n",
              "</table>\n",
              "</div>"
            ],
            "text/plain": [
              "  Subjects  Marks Grade Teacher's Name                    School Name\n",
              "0    Maths  190.0     A          Mrs.D  Delhi Public School - Gurgaon\n",
              "1  Science  160.0     A         Miss F  Delhi Public School - Gurgaon\n",
              "2  Drawing  152.5     A           Mr.A  Delhi Public School - Gurgaon\n",
              "3  English  152.5     A           Mr.B  Delhi Public School - Gurgaon\n",
              "4     Urdu  152.5     A           Mr.X  Delhi Public School - Gurgaon"
            ]
          },
          "metadata": {
            "tags": []
          },
          "execution_count": 68
        }
      ]
    },
    {
      "cell_type": "code",
      "metadata": {
        "id": "06P_uxGbrYwB",
        "colab_type": "code",
        "colab": {
          "base_uri": "https://localhost:8080/",
          "height": 228
        },
        "outputId": "cc42366c-a31f-4211-d8ce-ba5f5245eb78"
      },
      "source": [
        "df"
      ],
      "execution_count": null,
      "outputs": [
        {
          "output_type": "execute_result",
          "data": {
            "text/html": [
              "<div>\n",
              "<style scoped>\n",
              "    .dataframe tbody tr th:only-of-type {\n",
              "        vertical-align: middle;\n",
              "    }\n",
              "\n",
              "    .dataframe tbody tr th {\n",
              "        vertical-align: top;\n",
              "    }\n",
              "\n",
              "    .dataframe thead th {\n",
              "        text-align: right;\n",
              "    }\n",
              "</style>\n",
              "<table border=\"1\" class=\"dataframe\">\n",
              "  <thead>\n",
              "    <tr style=\"text-align: right;\">\n",
              "      <th></th>\n",
              "      <th>Subjects</th>\n",
              "      <th>Marks</th>\n",
              "      <th>Grade</th>\n",
              "      <th>Teacher's Name</th>\n",
              "      <th>School Name</th>\n",
              "    </tr>\n",
              "  </thead>\n",
              "  <tbody>\n",
              "    <tr>\n",
              "      <th>0</th>\n",
              "      <td>Maths</td>\n",
              "      <td>190.0</td>\n",
              "      <td>A</td>\n",
              "      <td>Mrs.D</td>\n",
              "      <td>Delhi Public School - Gurgaon</td>\n",
              "    </tr>\n",
              "    <tr>\n",
              "      <th>1</th>\n",
              "      <td>Science</td>\n",
              "      <td>160.0</td>\n",
              "      <td>A</td>\n",
              "      <td>Miss F</td>\n",
              "      <td>Delhi Public School - Gurgaon</td>\n",
              "    </tr>\n",
              "    <tr>\n",
              "      <th>2</th>\n",
              "      <td>Drawing</td>\n",
              "      <td>152.5</td>\n",
              "      <td>A</td>\n",
              "      <td>Mr.A</td>\n",
              "      <td>Delhi Public School - Gurgaon</td>\n",
              "    </tr>\n",
              "    <tr>\n",
              "      <th>3</th>\n",
              "      <td>English</td>\n",
              "      <td>152.5</td>\n",
              "      <td>A</td>\n",
              "      <td>Mr.B</td>\n",
              "      <td>Delhi Public School - Gurgaon</td>\n",
              "    </tr>\n",
              "    <tr>\n",
              "      <th>4</th>\n",
              "      <td>Urdu</td>\n",
              "      <td>152.5</td>\n",
              "      <td>A</td>\n",
              "      <td>Mr.X</td>\n",
              "      <td>Delhi Public School - Gurgaon</td>\n",
              "    </tr>\n",
              "    <tr>\n",
              "      <th>5</th>\n",
              "      <td>SST</td>\n",
              "      <td>140.0</td>\n",
              "      <td>B</td>\n",
              "      <td>Miss E</td>\n",
              "      <td>Delhi Public School - Gurgaon</td>\n",
              "    </tr>\n",
              "  </tbody>\n",
              "</table>\n",
              "</div>"
            ],
            "text/plain": [
              "  Subjects  Marks Grade Teacher's Name                    School Name\n",
              "0    Maths  190.0     A          Mrs.D  Delhi Public School - Gurgaon\n",
              "1  Science  160.0     A         Miss F  Delhi Public School - Gurgaon\n",
              "2  Drawing  152.5     A           Mr.A  Delhi Public School - Gurgaon\n",
              "3  English  152.5     A           Mr.B  Delhi Public School - Gurgaon\n",
              "4     Urdu  152.5     A           Mr.X  Delhi Public School - Gurgaon\n",
              "5      SST  140.0     B         Miss E  Delhi Public School - Gurgaon"
            ]
          },
          "metadata": {
            "tags": []
          },
          "execution_count": 69
        }
      ]
    },
    {
      "cell_type": "code",
      "metadata": {
        "id": "Su1yyYyCsDVh",
        "colab_type": "code",
        "colab": {
          "base_uri": "https://localhost:8080/",
          "height": 228
        },
        "outputId": "eec937e1-6ff8-400f-ca2e-ba2d4c091e59"
      },
      "source": [
        "df.insert(3,\"Student Name\",\"Umang Kejriwal\",True)\n",
        "df"
      ],
      "execution_count": null,
      "outputs": [
        {
          "output_type": "execute_result",
          "data": {
            "text/html": [
              "<div>\n",
              "<style scoped>\n",
              "    .dataframe tbody tr th:only-of-type {\n",
              "        vertical-align: middle;\n",
              "    }\n",
              "\n",
              "    .dataframe tbody tr th {\n",
              "        vertical-align: top;\n",
              "    }\n",
              "\n",
              "    .dataframe thead th {\n",
              "        text-align: right;\n",
              "    }\n",
              "</style>\n",
              "<table border=\"1\" class=\"dataframe\">\n",
              "  <thead>\n",
              "    <tr style=\"text-align: right;\">\n",
              "      <th></th>\n",
              "      <th>Subjects</th>\n",
              "      <th>Marks</th>\n",
              "      <th>Grade</th>\n",
              "      <th>Student Name</th>\n",
              "      <th>Student Name</th>\n",
              "      <th>Student Name</th>\n",
              "      <th>Teacher's Name</th>\n",
              "      <th>School Name</th>\n",
              "    </tr>\n",
              "  </thead>\n",
              "  <tbody>\n",
              "    <tr>\n",
              "      <th>0</th>\n",
              "      <td>Maths</td>\n",
              "      <td>190.0</td>\n",
              "      <td>A</td>\n",
              "      <td>Umang Kejriwal</td>\n",
              "      <td>Umang Kejriwal</td>\n",
              "      <td>Umang Kejriwal</td>\n",
              "      <td>Mrs.D</td>\n",
              "      <td>Delhi Public School - Gurgaon</td>\n",
              "    </tr>\n",
              "    <tr>\n",
              "      <th>1</th>\n",
              "      <td>Science</td>\n",
              "      <td>160.0</td>\n",
              "      <td>A</td>\n",
              "      <td>Umang Kejriwal</td>\n",
              "      <td>Umang Kejriwal</td>\n",
              "      <td>Umang Kejriwal</td>\n",
              "      <td>Miss F</td>\n",
              "      <td>Delhi Public School - Gurgaon</td>\n",
              "    </tr>\n",
              "    <tr>\n",
              "      <th>2</th>\n",
              "      <td>Drawing</td>\n",
              "      <td>152.5</td>\n",
              "      <td>A</td>\n",
              "      <td>Umang Kejriwal</td>\n",
              "      <td>Umang Kejriwal</td>\n",
              "      <td>Umang Kejriwal</td>\n",
              "      <td>Mr.A</td>\n",
              "      <td>Delhi Public School - Gurgaon</td>\n",
              "    </tr>\n",
              "    <tr>\n",
              "      <th>3</th>\n",
              "      <td>English</td>\n",
              "      <td>152.5</td>\n",
              "      <td>A</td>\n",
              "      <td>Umang Kejriwal</td>\n",
              "      <td>Umang Kejriwal</td>\n",
              "      <td>Umang Kejriwal</td>\n",
              "      <td>Mr.B</td>\n",
              "      <td>Delhi Public School - Gurgaon</td>\n",
              "    </tr>\n",
              "    <tr>\n",
              "      <th>4</th>\n",
              "      <td>Urdu</td>\n",
              "      <td>152.5</td>\n",
              "      <td>A</td>\n",
              "      <td>Umang Kejriwal</td>\n",
              "      <td>Umang Kejriwal</td>\n",
              "      <td>Umang Kejriwal</td>\n",
              "      <td>Mr.X</td>\n",
              "      <td>Delhi Public School - Gurgaon</td>\n",
              "    </tr>\n",
              "    <tr>\n",
              "      <th>5</th>\n",
              "      <td>SST</td>\n",
              "      <td>140.0</td>\n",
              "      <td>B</td>\n",
              "      <td>Umang Kejriwal</td>\n",
              "      <td>Umang Kejriwal</td>\n",
              "      <td>Umang Kejriwal</td>\n",
              "      <td>Miss E</td>\n",
              "      <td>Delhi Public School - Gurgaon</td>\n",
              "    </tr>\n",
              "  </tbody>\n",
              "</table>\n",
              "</div>"
            ],
            "text/plain": [
              "  Subjects  Marks  ... Teacher's Name                    School Name\n",
              "0    Maths  190.0  ...          Mrs.D  Delhi Public School - Gurgaon\n",
              "1  Science  160.0  ...         Miss F  Delhi Public School - Gurgaon\n",
              "2  Drawing  152.5  ...           Mr.A  Delhi Public School - Gurgaon\n",
              "3  English  152.5  ...           Mr.B  Delhi Public School - Gurgaon\n",
              "4     Urdu  152.5  ...           Mr.X  Delhi Public School - Gurgaon\n",
              "5      SST  140.0  ...         Miss E  Delhi Public School - Gurgaon\n",
              "\n",
              "[6 rows x 8 columns]"
            ]
          },
          "metadata": {
            "tags": []
          },
          "execution_count": 73
        }
      ]
    },
    {
      "cell_type": "code",
      "metadata": {
        "id": "BeVhAj5wsiQ3",
        "colab_type": "code",
        "colab": {
          "base_uri": "https://localhost:8080/",
          "height": 228
        },
        "outputId": "81be4946-2865-43af-d332-ce2e4e508402"
      },
      "source": [
        "df.drop([\"Student Name\"],axis=1,inplace=True)\n",
        "df"
      ],
      "execution_count": null,
      "outputs": [
        {
          "output_type": "execute_result",
          "data": {
            "text/html": [
              "<div>\n",
              "<style scoped>\n",
              "    .dataframe tbody tr th:only-of-type {\n",
              "        vertical-align: middle;\n",
              "    }\n",
              "\n",
              "    .dataframe tbody tr th {\n",
              "        vertical-align: top;\n",
              "    }\n",
              "\n",
              "    .dataframe thead th {\n",
              "        text-align: right;\n",
              "    }\n",
              "</style>\n",
              "<table border=\"1\" class=\"dataframe\">\n",
              "  <thead>\n",
              "    <tr style=\"text-align: right;\">\n",
              "      <th></th>\n",
              "      <th>Subjects</th>\n",
              "      <th>Marks</th>\n",
              "      <th>Grade</th>\n",
              "      <th>Teacher's Name</th>\n",
              "      <th>School Name</th>\n",
              "    </tr>\n",
              "  </thead>\n",
              "  <tbody>\n",
              "    <tr>\n",
              "      <th>0</th>\n",
              "      <td>Maths</td>\n",
              "      <td>190.0</td>\n",
              "      <td>A</td>\n",
              "      <td>Mrs.D</td>\n",
              "      <td>Delhi Public School - Gurgaon</td>\n",
              "    </tr>\n",
              "    <tr>\n",
              "      <th>1</th>\n",
              "      <td>Science</td>\n",
              "      <td>160.0</td>\n",
              "      <td>A</td>\n",
              "      <td>Miss F</td>\n",
              "      <td>Delhi Public School - Gurgaon</td>\n",
              "    </tr>\n",
              "    <tr>\n",
              "      <th>2</th>\n",
              "      <td>Drawing</td>\n",
              "      <td>152.5</td>\n",
              "      <td>A</td>\n",
              "      <td>Mr.A</td>\n",
              "      <td>Delhi Public School - Gurgaon</td>\n",
              "    </tr>\n",
              "    <tr>\n",
              "      <th>3</th>\n",
              "      <td>English</td>\n",
              "      <td>152.5</td>\n",
              "      <td>A</td>\n",
              "      <td>Mr.B</td>\n",
              "      <td>Delhi Public School - Gurgaon</td>\n",
              "    </tr>\n",
              "    <tr>\n",
              "      <th>4</th>\n",
              "      <td>Urdu</td>\n",
              "      <td>152.5</td>\n",
              "      <td>A</td>\n",
              "      <td>Mr.X</td>\n",
              "      <td>Delhi Public School - Gurgaon</td>\n",
              "    </tr>\n",
              "    <tr>\n",
              "      <th>5</th>\n",
              "      <td>SST</td>\n",
              "      <td>140.0</td>\n",
              "      <td>B</td>\n",
              "      <td>Miss E</td>\n",
              "      <td>Delhi Public School - Gurgaon</td>\n",
              "    </tr>\n",
              "  </tbody>\n",
              "</table>\n",
              "</div>"
            ],
            "text/plain": [
              "  Subjects  Marks Grade Teacher's Name                    School Name\n",
              "0    Maths  190.0     A          Mrs.D  Delhi Public School - Gurgaon\n",
              "1  Science  160.0     A         Miss F  Delhi Public School - Gurgaon\n",
              "2  Drawing  152.5     A           Mr.A  Delhi Public School - Gurgaon\n",
              "3  English  152.5     A           Mr.B  Delhi Public School - Gurgaon\n",
              "4     Urdu  152.5     A           Mr.X  Delhi Public School - Gurgaon\n",
              "5      SST  140.0     B         Miss E  Delhi Public School - Gurgaon"
            ]
          },
          "metadata": {
            "tags": []
          },
          "execution_count": 74
        }
      ]
    },
    {
      "cell_type": "code",
      "metadata": {
        "id": "CgiQDLxntZy1",
        "colab_type": "code",
        "colab": {}
      },
      "source": [
        "df1 = pd.DataFrame()\n",
        "df1[\"Subjects\"] = [\"IT\"]\n",
        "df1[\"Marks\"] = [200]\n",
        "df1[\"Grade\"] = [\"A\"]\n",
        "df1[\"Teacher's Name\"] = [\"Mr.Y\"]\n",
        "df1[\"School Name\"] = [\"Delhi Public School - Gurgaon\"]\n",
        "df1"
      ],
      "execution_count": null,
      "outputs": []
    },
    {
      "cell_type": "code",
      "metadata": {
        "id": "-RhRZJpyuJUw",
        "colab_type": "code",
        "colab": {}
      },
      "source": [
        "df = df.append(df1)"
      ],
      "execution_count": null,
      "outputs": []
    },
    {
      "cell_type": "code",
      "metadata": {
        "id": "CnqMG8Q_uejH",
        "colab_type": "code",
        "colab": {}
      },
      "source": [
        "new_row = {\"Subjects\":\"EVS\",\"Marks\":90,\"Grade\":\"B\",\n",
        "           \"Teacher's Name\":\"Mr.Z\",\"School Name\":\"Delhi Public School - Gurgaon\"}\n",
        "df = df.append(new_row,ignore_index=True)"
      ],
      "execution_count": null,
      "outputs": []
    },
    {
      "cell_type": "code",
      "metadata": {
        "id": "uOmKmhb4v2LL",
        "colab_type": "code",
        "colab": {
          "base_uri": "https://localhost:8080/",
          "height": 288
        },
        "outputId": "4c79c7a8-16e5-452c-e14e-8d729bf90a82"
      },
      "source": [
        "df"
      ],
      "execution_count": null,
      "outputs": [
        {
          "output_type": "execute_result",
          "data": {
            "text/html": [
              "<div>\n",
              "<style scoped>\n",
              "    .dataframe tbody tr th:only-of-type {\n",
              "        vertical-align: middle;\n",
              "    }\n",
              "\n",
              "    .dataframe tbody tr th {\n",
              "        vertical-align: top;\n",
              "    }\n",
              "\n",
              "    .dataframe thead th {\n",
              "        text-align: right;\n",
              "    }\n",
              "</style>\n",
              "<table border=\"1\" class=\"dataframe\">\n",
              "  <thead>\n",
              "    <tr style=\"text-align: right;\">\n",
              "      <th></th>\n",
              "      <th>Subjects</th>\n",
              "      <th>Marks</th>\n",
              "      <th>Grade</th>\n",
              "      <th>Teacher's Name</th>\n",
              "      <th>School Name</th>\n",
              "    </tr>\n",
              "  </thead>\n",
              "  <tbody>\n",
              "    <tr>\n",
              "      <th>0</th>\n",
              "      <td>Maths</td>\n",
              "      <td>190.0</td>\n",
              "      <td>A</td>\n",
              "      <td>Mrs.D</td>\n",
              "      <td>Delhi Public School - Gurgaon</td>\n",
              "    </tr>\n",
              "    <tr>\n",
              "      <th>1</th>\n",
              "      <td>Science</td>\n",
              "      <td>160.0</td>\n",
              "      <td>A</td>\n",
              "      <td>Miss F</td>\n",
              "      <td>Delhi Public School - Gurgaon</td>\n",
              "    </tr>\n",
              "    <tr>\n",
              "      <th>2</th>\n",
              "      <td>Drawing</td>\n",
              "      <td>152.5</td>\n",
              "      <td>A</td>\n",
              "      <td>Mr.A</td>\n",
              "      <td>Delhi Public School - Gurgaon</td>\n",
              "    </tr>\n",
              "    <tr>\n",
              "      <th>3</th>\n",
              "      <td>English</td>\n",
              "      <td>152.5</td>\n",
              "      <td>A</td>\n",
              "      <td>Mr.B</td>\n",
              "      <td>Delhi Public School - Gurgaon</td>\n",
              "    </tr>\n",
              "    <tr>\n",
              "      <th>4</th>\n",
              "      <td>Urdu</td>\n",
              "      <td>152.5</td>\n",
              "      <td>A</td>\n",
              "      <td>Mr.X</td>\n",
              "      <td>Delhi Public School - Gurgaon</td>\n",
              "    </tr>\n",
              "    <tr>\n",
              "      <th>5</th>\n",
              "      <td>SST</td>\n",
              "      <td>140.0</td>\n",
              "      <td>B</td>\n",
              "      <td>Miss E</td>\n",
              "      <td>Delhi Public School - Gurgaon</td>\n",
              "    </tr>\n",
              "    <tr>\n",
              "      <th>6</th>\n",
              "      <td>IT</td>\n",
              "      <td>200.0</td>\n",
              "      <td>A</td>\n",
              "      <td>Mr.Y</td>\n",
              "      <td>Delhi Public School - Gurgaon</td>\n",
              "    </tr>\n",
              "    <tr>\n",
              "      <th>7</th>\n",
              "      <td>EVS</td>\n",
              "      <td>90.0</td>\n",
              "      <td>B</td>\n",
              "      <td>Mr.Z</td>\n",
              "      <td>Delhi Public School - Gurgaon</td>\n",
              "    </tr>\n",
              "  </tbody>\n",
              "</table>\n",
              "</div>"
            ],
            "text/plain": [
              "  Subjects  Marks Grade Teacher's Name                    School Name\n",
              "0    Maths  190.0     A          Mrs.D  Delhi Public School - Gurgaon\n",
              "1  Science  160.0     A         Miss F  Delhi Public School - Gurgaon\n",
              "2  Drawing  152.5     A           Mr.A  Delhi Public School - Gurgaon\n",
              "3  English  152.5     A           Mr.B  Delhi Public School - Gurgaon\n",
              "4     Urdu  152.5     A           Mr.X  Delhi Public School - Gurgaon\n",
              "5      SST  140.0     B         Miss E  Delhi Public School - Gurgaon\n",
              "6       IT  200.0     A           Mr.Y  Delhi Public School - Gurgaon\n",
              "7      EVS   90.0     B           Mr.Z  Delhi Public School - Gurgaon"
            ]
          },
          "metadata": {
            "tags": []
          },
          "execution_count": 86
        }
      ]
    },
    {
      "cell_type": "code",
      "metadata": {
        "id": "l7nJme1TukZi",
        "colab_type": "code",
        "colab": {}
      },
      "source": [
        "### Export to CSV - Comma Seperated Value\n",
        "df.to_csv(\"data.csv\")"
      ],
      "execution_count": null,
      "outputs": []
    },
    {
      "cell_type": "code",
      "metadata": {
        "id": "7ODJUVV-vklO",
        "colab_type": "code",
        "colab": {}
      },
      "source": [
        ""
      ],
      "execution_count": null,
      "outputs": []
    }
  ]
}